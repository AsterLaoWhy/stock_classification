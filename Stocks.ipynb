{
 "cells": [
  {
   "cell_type": "code",
   "execution_count": 1,
   "metadata": {},
   "outputs": [
    {
     "data": {
      "application/javascript": [
       "\n",
       "            setTimeout(function() {\n",
       "                var nbb_cell_id = 1;\n",
       "                var nbb_unformatted_code = \"%load_ext nb_black\\nfrom collections import Counter\\nfrom umap import UMAP\\nimport pandas as pd\\nimport numpy as np\\nimport matplotlib.pyplot as plt\\nimport plotly.express as px\\nimport seaborn as sns\\nfrom factor_analyzer import FactorAnalyzer\\nfrom sklearn.cluster import KMeans, AgglomerativeClustering\\nfrom scipy.cluster.hierarchy import dendrogram\\nfrom scipy.spatial.distance import pdist, squareform\\nfrom sklearn.decomposition import PCA\\nfrom sklearn.preprocessing import StandardScaler\";\n",
       "                var nbb_formatted_code = \"%load_ext nb_black\\nfrom collections import Counter\\nfrom umap import UMAP\\nimport pandas as pd\\nimport numpy as np\\nimport matplotlib.pyplot as plt\\nimport plotly.express as px\\nimport seaborn as sns\\nfrom factor_analyzer import FactorAnalyzer\\nfrom sklearn.cluster import KMeans, AgglomerativeClustering\\nfrom scipy.cluster.hierarchy import dendrogram\\nfrom scipy.spatial.distance import pdist, squareform\\nfrom sklearn.decomposition import PCA\\nfrom sklearn.preprocessing import StandardScaler\";\n",
       "                var nbb_cells = Jupyter.notebook.get_cells();\n",
       "                for (var i = 0; i < nbb_cells.length; ++i) {\n",
       "                    if (nbb_cells[i].input_prompt_number == nbb_cell_id) {\n",
       "                        if (nbb_cells[i].get_text() == nbb_unformatted_code) {\n",
       "                             nbb_cells[i].set_text(nbb_formatted_code);\n",
       "                        }\n",
       "                        break;\n",
       "                    }\n",
       "                }\n",
       "            }, 500);\n",
       "            "
      ],
      "text/plain": [
       "<IPython.core.display.Javascript object>"
      ]
     },
     "metadata": {},
     "output_type": "display_data"
    }
   ],
   "source": [
    "%load_ext nb_black\n",
    "from collections import Counter\n",
    "from umap import UMAP\n",
    "import pandas as pd\n",
    "import numpy as np\n",
    "import matplotlib.pyplot as plt\n",
    "import plotly.express as px\n",
    "import seaborn as sns\n",
    "from factor_analyzer import FactorAnalyzer\n",
    "from sklearn.cluster import KMeans, AgglomerativeClustering\n",
    "from scipy.cluster.hierarchy import dendrogram\n",
    "from scipy.spatial.distance import pdist, squareform\n",
    "from sklearn.decomposition import PCA\n",
    "from sklearn.preprocessing import StandardScaler"
   ]
  },
  {
   "cell_type": "code",
   "execution_count": 2,
   "metadata": {},
   "outputs": [
    {
     "data": {
      "application/javascript": [
       "\n",
       "            setTimeout(function() {\n",
       "                var nbb_cell_id = 2;\n",
       "                var nbb_unformatted_code = \"# useful functions\\ndef pca_loadings(pca):\\n    return pca.components_.T * np.sqrt(pca.explained_variance_)\\n\\n\\ndef plot_dendrogram(model, **kwargs):\\n    \\\"\\\"\\\"\\n    A function for plotting a dendrogram. Sourced from the following link:\\n    https://github.com/scikit-learn/scikit-learn/blob/70cf4a676caa2d2dad2e3f6e4478d64bcb0506f7/examples/cluster/plot_hierarchical_clustering_dendrogram.py\\n    \\n    Parameters:\\n        model (object of class sklearn.cluster.hierarchical.AgglomerativeClustering): a fitted scikit-learn hierarchical clustering model.\\n    \\n    Output: a dendrogram based on the model based in the parameters.\\n    \\n    Returns: None   \\n    \\\"\\\"\\\"\\n    # Children of hierarchical clustering\\n    children = model.children_\\n\\n    # Distances between each pair of children\\n    # Since we don't have this information, we can use a uniform one for plotting\\n    distance = np.arange(children.shape[0])\\n\\n    # The number of observations contained in each cluster level\\n    no_of_observations = np.arange(2, children.shape[0] + 2)\\n\\n    # Create linkage matrix and then plot the dendrogram\\n    linkage_matrix = np.column_stack([children, distance, no_of_observations]).astype(\\n        float\\n    )\\n\\n    # Plot the corresponding dendrogram\\n    dendrogram(linkage_matrix, **kwargs)\\n\\n\\ndef hide_current_axis(*args, **kwds):\\n    plt.gca().set_visible(False)\";\n",
       "                var nbb_formatted_code = \"# useful functions\\ndef pca_loadings(pca):\\n    return pca.components_.T * np.sqrt(pca.explained_variance_)\\n\\n\\ndef plot_dendrogram(model, **kwargs):\\n    \\\"\\\"\\\"\\n    A function for plotting a dendrogram. Sourced from the following link:\\n    https://github.com/scikit-learn/scikit-learn/blob/70cf4a676caa2d2dad2e3f6e4478d64bcb0506f7/examples/cluster/plot_hierarchical_clustering_dendrogram.py\\n    \\n    Parameters:\\n        model (object of class sklearn.cluster.hierarchical.AgglomerativeClustering): a fitted scikit-learn hierarchical clustering model.\\n    \\n    Output: a dendrogram based on the model based in the parameters.\\n    \\n    Returns: None   \\n    \\\"\\\"\\\"\\n    # Children of hierarchical clustering\\n    children = model.children_\\n\\n    # Distances between each pair of children\\n    # Since we don't have this information, we can use a uniform one for plotting\\n    distance = np.arange(children.shape[0])\\n\\n    # The number of observations contained in each cluster level\\n    no_of_observations = np.arange(2, children.shape[0] + 2)\\n\\n    # Create linkage matrix and then plot the dendrogram\\n    linkage_matrix = np.column_stack([children, distance, no_of_observations]).astype(\\n        float\\n    )\\n\\n    # Plot the corresponding dendrogram\\n    dendrogram(linkage_matrix, **kwargs)\\n\\n\\ndef hide_current_axis(*args, **kwds):\\n    plt.gca().set_visible(False)\";\n",
       "                var nbb_cells = Jupyter.notebook.get_cells();\n",
       "                for (var i = 0; i < nbb_cells.length; ++i) {\n",
       "                    if (nbb_cells[i].input_prompt_number == nbb_cell_id) {\n",
       "                        if (nbb_cells[i].get_text() == nbb_unformatted_code) {\n",
       "                             nbb_cells[i].set_text(nbb_formatted_code);\n",
       "                        }\n",
       "                        break;\n",
       "                    }\n",
       "                }\n",
       "            }, 500);\n",
       "            "
      ],
      "text/plain": [
       "<IPython.core.display.Javascript object>"
      ]
     },
     "metadata": {},
     "output_type": "display_data"
    }
   ],
   "source": [
    "# useful functions\n",
    "def pca_loadings(pca):\n",
    "    return pca.components_.T * np.sqrt(pca.explained_variance_)\n",
    "\n",
    "\n",
    "def plot_dendrogram(model, **kwargs):\n",
    "    \"\"\"\n",
    "    A function for plotting a dendrogram. Sourced from the following link:\n",
    "    https://github.com/scikit-learn/scikit-learn/blob/70cf4a676caa2d2dad2e3f6e4478d64bcb0506f7/examples/cluster/plot_hierarchical_clustering_dendrogram.py\n",
    "    \n",
    "    Parameters:\n",
    "        model (object of class sklearn.cluster.hierarchical.AgglomerativeClustering): a fitted scikit-learn hierarchical clustering model.\n",
    "    \n",
    "    Output: a dendrogram based on the model based in the parameters.\n",
    "    \n",
    "    Returns: None   \n",
    "    \"\"\"\n",
    "    # Children of hierarchical clustering\n",
    "    children = model.children_\n",
    "\n",
    "    # Distances between each pair of children\n",
    "    # Since we don't have this information, we can use a uniform one for plotting\n",
    "    distance = np.arange(children.shape[0])\n",
    "\n",
    "    # The number of observations contained in each cluster level\n",
    "    no_of_observations = np.arange(2, children.shape[0] + 2)\n",
    "\n",
    "    # Create linkage matrix and then plot the dendrogram\n",
    "    linkage_matrix = np.column_stack([children, distance, no_of_observations]).astype(\n",
    "        float\n",
    "    )\n",
    "\n",
    "    # Plot the corresponding dendrogram\n",
    "    dendrogram(linkage_matrix, **kwargs)\n",
    "\n",
    "\n",
    "def hide_current_axis(*args, **kwds):\n",
    "    plt.gca().set_visible(False)"
   ]
  },
  {
   "cell_type": "code",
   "execution_count": 3,
   "metadata": {},
   "outputs": [
    {
     "data": {
      "text/html": [
       "<div>\n",
       "<style scoped>\n",
       "    .dataframe tbody tr th:only-of-type {\n",
       "        vertical-align: middle;\n",
       "    }\n",
       "\n",
       "    .dataframe tbody tr th {\n",
       "        vertical-align: top;\n",
       "    }\n",
       "\n",
       "    .dataframe thead th {\n",
       "        text-align: right;\n",
       "    }\n",
       "</style>\n",
       "<table border=\"1\" class=\"dataframe\">\n",
       "  <thead>\n",
       "    <tr style=\"text-align: right;\">\n",
       "      <th></th>\n",
       "      <th>date</th>\n",
       "      <th>symbol</th>\n",
       "      <th>open</th>\n",
       "      <th>close</th>\n",
       "      <th>low</th>\n",
       "      <th>high</th>\n",
       "      <th>volume</th>\n",
       "    </tr>\n",
       "  </thead>\n",
       "  <tbody>\n",
       "    <tr>\n",
       "      <th>0</th>\n",
       "      <td>2016-01-05 00:00:00</td>\n",
       "      <td>WLTW</td>\n",
       "      <td>123.430000</td>\n",
       "      <td>125.839996</td>\n",
       "      <td>122.309998</td>\n",
       "      <td>126.250000</td>\n",
       "      <td>2163600.0</td>\n",
       "    </tr>\n",
       "    <tr>\n",
       "      <th>1</th>\n",
       "      <td>2016-01-06 00:00:00</td>\n",
       "      <td>WLTW</td>\n",
       "      <td>125.239998</td>\n",
       "      <td>119.980003</td>\n",
       "      <td>119.940002</td>\n",
       "      <td>125.540001</td>\n",
       "      <td>2386400.0</td>\n",
       "    </tr>\n",
       "    <tr>\n",
       "      <th>2</th>\n",
       "      <td>2016-01-07 00:00:00</td>\n",
       "      <td>WLTW</td>\n",
       "      <td>116.379997</td>\n",
       "      <td>114.949997</td>\n",
       "      <td>114.930000</td>\n",
       "      <td>119.739998</td>\n",
       "      <td>2489500.0</td>\n",
       "    </tr>\n",
       "    <tr>\n",
       "      <th>3</th>\n",
       "      <td>2016-01-08 00:00:00</td>\n",
       "      <td>WLTW</td>\n",
       "      <td>115.480003</td>\n",
       "      <td>116.620003</td>\n",
       "      <td>113.500000</td>\n",
       "      <td>117.440002</td>\n",
       "      <td>2006300.0</td>\n",
       "    </tr>\n",
       "    <tr>\n",
       "      <th>4</th>\n",
       "      <td>2016-01-11 00:00:00</td>\n",
       "      <td>WLTW</td>\n",
       "      <td>117.010002</td>\n",
       "      <td>114.970001</td>\n",
       "      <td>114.089996</td>\n",
       "      <td>117.330002</td>\n",
       "      <td>1408600.0</td>\n",
       "    </tr>\n",
       "  </tbody>\n",
       "</table>\n",
       "</div>"
      ],
      "text/plain": [
       "                  date symbol        open       close         low        high  \\\n",
       "0  2016-01-05 00:00:00   WLTW  123.430000  125.839996  122.309998  126.250000   \n",
       "1  2016-01-06 00:00:00   WLTW  125.239998  119.980003  119.940002  125.540001   \n",
       "2  2016-01-07 00:00:00   WLTW  116.379997  114.949997  114.930000  119.739998   \n",
       "3  2016-01-08 00:00:00   WLTW  115.480003  116.620003  113.500000  117.440002   \n",
       "4  2016-01-11 00:00:00   WLTW  117.010002  114.970001  114.089996  117.330002   \n",
       "\n",
       "      volume  \n",
       "0  2163600.0  \n",
       "1  2386400.0  \n",
       "2  2489500.0  \n",
       "3  2006300.0  \n",
       "4  1408600.0  "
      ]
     },
     "execution_count": 3,
     "metadata": {},
     "output_type": "execute_result"
    },
    {
     "data": {
      "application/javascript": [
       "\n",
       "            setTimeout(function() {\n",
       "                var nbb_cell_id = 3;\n",
       "                var nbb_unformatted_code = \"df = pd.read_csv(r\\\"C:\\\\Users\\\\jonat\\\\Desktop\\\\Stocks\\\\prices.csv\\\")\\ndf.head()\";\n",
       "                var nbb_formatted_code = \"df = pd.read_csv(r\\\"C:\\\\Users\\\\jonat\\\\Desktop\\\\Stocks\\\\prices.csv\\\")\\ndf.head()\";\n",
       "                var nbb_cells = Jupyter.notebook.get_cells();\n",
       "                for (var i = 0; i < nbb_cells.length; ++i) {\n",
       "                    if (nbb_cells[i].input_prompt_number == nbb_cell_id) {\n",
       "                        if (nbb_cells[i].get_text() == nbb_unformatted_code) {\n",
       "                             nbb_cells[i].set_text(nbb_formatted_code);\n",
       "                        }\n",
       "                        break;\n",
       "                    }\n",
       "                }\n",
       "            }, 500);\n",
       "            "
      ],
      "text/plain": [
       "<IPython.core.display.Javascript object>"
      ]
     },
     "metadata": {},
     "output_type": "display_data"
    }
   ],
   "source": [
    "df = pd.read_csv(r\"C:\\Users\\jonat\\Desktop\\Stocks\\prices.csv\")\n",
    "df.head()"
   ]
  },
  {
   "cell_type": "code",
   "execution_count": 4,
   "metadata": {},
   "outputs": [
    {
     "name": "stdout",
     "output_type": "stream",
     "text": [
      "<class 'pandas.core.frame.DataFrame'>\n",
      "RangeIndex: 851264 entries, 0 to 851263\n",
      "Data columns (total 7 columns):\n",
      " #   Column  Non-Null Count   Dtype  \n",
      "---  ------  --------------   -----  \n",
      " 0   date    851264 non-null  object \n",
      " 1   symbol  851264 non-null  object \n",
      " 2   open    851264 non-null  float64\n",
      " 3   close   851264 non-null  float64\n",
      " 4   low     851264 non-null  float64\n",
      " 5   high    851264 non-null  float64\n",
      " 6   volume  851264 non-null  float64\n",
      "dtypes: float64(5), object(2)\n",
      "memory usage: 45.5+ MB\n"
     ]
    },
    {
     "data": {
      "text/plain": [
       "None"
      ]
     },
     "metadata": {},
     "output_type": "display_data"
    },
    {
     "name": "stdout",
     "output_type": "stream",
     "text": [
      "<class 'pandas.core.frame.DataFrame'>\n",
      "RangeIndex: 851264 entries, 0 to 851263\n",
      "Data columns (total 7 columns):\n",
      " #   Column  Non-Null Count   Dtype         \n",
      "---  ------  --------------   -----         \n",
      " 0   date    851264 non-null  datetime64[ns]\n",
      " 1   symbol  851264 non-null  object        \n",
      " 2   open    851264 non-null  float64       \n",
      " 3   close   851264 non-null  float64       \n",
      " 4   low     851264 non-null  float64       \n",
      " 5   high    851264 non-null  float64       \n",
      " 6   volume  851264 non-null  float64       \n",
      "dtypes: datetime64[ns](1), float64(5), object(1)\n",
      "memory usage: 45.5+ MB\n"
     ]
    },
    {
     "data": {
      "text/plain": [
       "None"
      ]
     },
     "metadata": {},
     "output_type": "display_data"
    },
    {
     "data": {
      "application/javascript": [
       "\n",
       "            setTimeout(function() {\n",
       "                var nbb_cell_id = 4;\n",
       "                var nbb_unformatted_code = \"# is it datetime?\\ndisplay(df.info())\\n# Guess not, let's make it datetime\\ndf[\\\"date\\\"] = df[\\\"date\\\"].str.replace(\\\"00:00:00\\\", \\\"\\\")\\ndf[\\\"date\\\"] = pd.to_datetime(df[\\\"date\\\"])\\ndisplay(df.info())\";\n",
       "                var nbb_formatted_code = \"# is it datetime?\\ndisplay(df.info())\\n# Guess not, let's make it datetime\\ndf[\\\"date\\\"] = df[\\\"date\\\"].str.replace(\\\"00:00:00\\\", \\\"\\\")\\ndf[\\\"date\\\"] = pd.to_datetime(df[\\\"date\\\"])\\ndisplay(df.info())\";\n",
       "                var nbb_cells = Jupyter.notebook.get_cells();\n",
       "                for (var i = 0; i < nbb_cells.length; ++i) {\n",
       "                    if (nbb_cells[i].input_prompt_number == nbb_cell_id) {\n",
       "                        if (nbb_cells[i].get_text() == nbb_unformatted_code) {\n",
       "                             nbb_cells[i].set_text(nbb_formatted_code);\n",
       "                        }\n",
       "                        break;\n",
       "                    }\n",
       "                }\n",
       "            }, 500);\n",
       "            "
      ],
      "text/plain": [
       "<IPython.core.display.Javascript object>"
      ]
     },
     "metadata": {},
     "output_type": "display_data"
    }
   ],
   "source": [
    "# is it datetime?\n",
    "display(df.info())\n",
    "# Guess not, let's make it datetime\n",
    "df[\"date\"] = df[\"date\"].str.replace(\"00:00:00\", \"\")\n",
    "df[\"date\"] = pd.to_datetime(df[\"date\"])\n",
    "display(df.info())"
   ]
  },
  {
   "cell_type": "code",
   "execution_count": 60,
   "metadata": {
    "scrolled": true
   },
   "outputs": [
    {
     "data": {
      "application/javascript": [
       "\n",
       "            setTimeout(function() {\n",
       "                var nbb_cell_id = 60;\n",
       "                var nbb_unformatted_code = \"# That is pretty... pretty cluttered. We should prob try to clean it up a little before we do anything\\n#sns.scatterplot(x=\\\"date\\\", y=\\\"open\\\", hue=\\\"symbol\\\", data=df)\";\n",
       "                var nbb_formatted_code = \"# That is pretty... pretty cluttered. We should prob try to clean it up a little before we do anything\\n# sns.scatterplot(x=\\\"date\\\", y=\\\"open\\\", hue=\\\"symbol\\\", data=df)\";\n",
       "                var nbb_cells = Jupyter.notebook.get_cells();\n",
       "                for (var i = 0; i < nbb_cells.length; ++i) {\n",
       "                    if (nbb_cells[i].input_prompt_number == nbb_cell_id) {\n",
       "                        if (nbb_cells[i].get_text() == nbb_unformatted_code) {\n",
       "                             nbb_cells[i].set_text(nbb_formatted_code);\n",
       "                        }\n",
       "                        break;\n",
       "                    }\n",
       "                }\n",
       "            }, 500);\n",
       "            "
      ],
      "text/plain": [
       "<IPython.core.display.Javascript object>"
      ]
     },
     "metadata": {},
     "output_type": "display_data"
    }
   ],
   "source": [
    "# That is pretty... pretty cluttered. We should prob try to clean it up a little before we do anything\n",
    "# sns.scatterplot(x=\"date\", y=\"open\", hue=\"symbol\", data=df)"
   ]
  },
  {
   "cell_type": "code",
   "execution_count": 6,
   "metadata": {},
   "outputs": [
    {
     "data": {
      "application/javascript": [
       "\n",
       "            setTimeout(function() {\n",
       "                var nbb_cell_id = 6;\n",
       "                var nbb_unformatted_code = \"# Let's separate based on month, day, and year.\\ndf[\\\"year\\\"] = df[\\\"date\\\"].dt.year\\ndf[\\\"month\\\"] = df[\\\"date\\\"].dt.month\\ndf[\\\"day\\\"] = df[\\\"date\\\"].dt.day\\n# now we drop date since it's kinda useless to us\";\n",
       "                var nbb_formatted_code = \"# Let's separate based on month, day, and year.\\ndf[\\\"year\\\"] = df[\\\"date\\\"].dt.year\\ndf[\\\"month\\\"] = df[\\\"date\\\"].dt.month\\ndf[\\\"day\\\"] = df[\\\"date\\\"].dt.day\\n# now we drop date since it's kinda useless to us\";\n",
       "                var nbb_cells = Jupyter.notebook.get_cells();\n",
       "                for (var i = 0; i < nbb_cells.length; ++i) {\n",
       "                    if (nbb_cells[i].input_prompt_number == nbb_cell_id) {\n",
       "                        if (nbb_cells[i].get_text() == nbb_unformatted_code) {\n",
       "                             nbb_cells[i].set_text(nbb_formatted_code);\n",
       "                        }\n",
       "                        break;\n",
       "                    }\n",
       "                }\n",
       "            }, 500);\n",
       "            "
      ],
      "text/plain": [
       "<IPython.core.display.Javascript object>"
      ]
     },
     "metadata": {},
     "output_type": "display_data"
    }
   ],
   "source": [
    "# Let's separate based on month, day, and year.\n",
    "df[\"year\"] = df[\"date\"].dt.year\n",
    "df[\"month\"] = df[\"date\"].dt.month\n",
    "df[\"day\"] = df[\"date\"].dt.day\n",
    "# now we drop date since it's kinda useless to us\n"
   ]
  },
  {
   "cell_type": "code",
   "execution_count": 7,
   "metadata": {},
   "outputs": [
    {
     "data": {
      "text/plain": [
       "date      0.0\n",
       "symbol    0.0\n",
       "open      0.0\n",
       "close     0.0\n",
       "low       0.0\n",
       "high      0.0\n",
       "volume    0.0\n",
       "year      0.0\n",
       "month     0.0\n",
       "day       0.0\n",
       "dtype: float64"
      ]
     },
     "execution_count": 7,
     "metadata": {},
     "output_type": "execute_result"
    },
    {
     "data": {
      "application/javascript": [
       "\n",
       "            setTimeout(function() {\n",
       "                var nbb_cell_id = 7;\n",
       "                var nbb_unformatted_code = \"# Are there any NA?\\ndf.isna().mean()\";\n",
       "                var nbb_formatted_code = \"# Are there any NA?\\ndf.isna().mean()\";\n",
       "                var nbb_cells = Jupyter.notebook.get_cells();\n",
       "                for (var i = 0; i < nbb_cells.length; ++i) {\n",
       "                    if (nbb_cells[i].input_prompt_number == nbb_cell_id) {\n",
       "                        if (nbb_cells[i].get_text() == nbb_unformatted_code) {\n",
       "                             nbb_cells[i].set_text(nbb_formatted_code);\n",
       "                        }\n",
       "                        break;\n",
       "                    }\n",
       "                }\n",
       "            }, 500);\n",
       "            "
      ],
      "text/plain": [
       "<IPython.core.display.Javascript object>"
      ]
     },
     "metadata": {},
     "output_type": "display_data"
    }
   ],
   "source": [
    "# Are there any NA?\n",
    "df.isna().mean()"
   ]
  },
  {
   "cell_type": "code",
   "execution_count": 8,
   "metadata": {
    "scrolled": true
   },
   "outputs": [
    {
     "data": {
      "text/plain": [
       "Counter({1762: 467,\n",
       "         1761: 1,\n",
       "         1683: 1,\n",
       "         1540: 1,\n",
       "         1008: 13,\n",
       "         987: 1,\n",
       "         896: 1,\n",
       "         894: 1,\n",
       "         892: 2,\n",
       "         853: 1,\n",
       "         786: 1,\n",
       "         504: 4,\n",
       "         385: 1,\n",
       "         378: 2,\n",
       "         304: 1,\n",
       "         284: 1,\n",
       "         251: 1,\n",
       "         126: 1})"
      ]
     },
     "execution_count": 8,
     "metadata": {},
     "output_type": "execute_result"
    },
    {
     "data": {
      "application/javascript": [
       "\n",
       "            setTimeout(function() {\n",
       "                var nbb_cell_id = 8;\n",
       "                var nbb_unformatted_code = \"# I want to see how many points of data we have\\nlow_stocks = df.symbol.value_counts()\\nCounter(low_stocks)\";\n",
       "                var nbb_formatted_code = \"# I want to see how many points of data we have\\nlow_stocks = df.symbol.value_counts()\\nCounter(low_stocks)\";\n",
       "                var nbb_cells = Jupyter.notebook.get_cells();\n",
       "                for (var i = 0; i < nbb_cells.length; ++i) {\n",
       "                    if (nbb_cells[i].input_prompt_number == nbb_cell_id) {\n",
       "                        if (nbb_cells[i].get_text() == nbb_unformatted_code) {\n",
       "                             nbb_cells[i].set_text(nbb_formatted_code);\n",
       "                        }\n",
       "                        break;\n",
       "                    }\n",
       "                }\n",
       "            }, 500);\n",
       "            "
      ],
      "text/plain": [
       "<IPython.core.display.Javascript object>"
      ]
     },
     "metadata": {},
     "output_type": "display_data"
    }
   ],
   "source": [
    "# I want to see how many points of data we have\n",
    "low_stocks = df.symbol.value_counts()\n",
    "Counter(low_stocks)"
   ]
  },
  {
   "cell_type": "code",
   "execution_count": 9,
   "metadata": {},
   "outputs": [
    {
     "name": "stdout",
     "output_type": "stream",
     "text": [
      "467\n"
     ]
    },
    {
     "data": {
      "application/javascript": [
       "\n",
       "            setTimeout(function() {\n",
       "                var nbb_cell_id = 9;\n",
       "                var nbb_unformatted_code = \"# Want to deal with stocks that have full data.Create equality among data\\ncount = 0\\nfor i in low_stocks:\\n    if i == 1762:\\n        count += 1\\n    else:\\n        count = count\\n\\nprint(count)\";\n",
       "                var nbb_formatted_code = \"# Want to deal with stocks that have full data.Create equality among data\\ncount = 0\\nfor i in low_stocks:\\n    if i == 1762:\\n        count += 1\\n    else:\\n        count = count\\n\\nprint(count)\";\n",
       "                var nbb_cells = Jupyter.notebook.get_cells();\n",
       "                for (var i = 0; i < nbb_cells.length; ++i) {\n",
       "                    if (nbb_cells[i].input_prompt_number == nbb_cell_id) {\n",
       "                        if (nbb_cells[i].get_text() == nbb_unformatted_code) {\n",
       "                             nbb_cells[i].set_text(nbb_formatted_code);\n",
       "                        }\n",
       "                        break;\n",
       "                    }\n",
       "                }\n",
       "            }, 500);\n",
       "            "
      ],
      "text/plain": [
       "<IPython.core.display.Javascript object>"
      ]
     },
     "metadata": {},
     "output_type": "display_data"
    }
   ],
   "source": [
    "# Want to deal with stocks that have full data.Create equality among data\n",
    "count = 0\n",
    "for i in low_stocks:\n",
    "    if i == 1762:\n",
    "        count += 1\n",
    "    else:\n",
    "        count = count\n",
    "\n",
    "print(count)"
   ]
  },
  {
   "cell_type": "code",
   "execution_count": 10,
   "metadata": {},
   "outputs": [
    {
     "data": {
      "text/plain": [
       "0          NaN\n",
       "1          NaN\n",
       "2          NaN\n",
       "3          NaN\n",
       "4          NaN\n",
       "          ... \n",
       "851259     ZBH\n",
       "851260    ZION\n",
       "851261     NaN\n",
       "851262     AIV\n",
       "851263     NaN\n",
       "Name: symbol, Length: 851264, dtype: object"
      ]
     },
     "execution_count": 10,
     "metadata": {},
     "output_type": "execute_result"
    },
    {
     "data": {
      "application/javascript": [
       "\n",
       "            setTimeout(function() {\n",
       "                var nbb_cell_id = 10;\n",
       "                var nbb_unformatted_code = \"# keeping CHTR because it's only missing one. The percentage of missing data isn't enough to warrant dropping it\\nto_drop = low_stocks.tail(34)\\npls_work = to_drop.reset_index()\\ndrop = pls_work[\\\"index\\\"].values\\ndf[\\\"symbol\\\"] = df[\\\"symbol\\\"].replace(drop, \\\"NaN\\\")\\ndf[\\\"symbol\\\"]\";\n",
       "                var nbb_formatted_code = \"# keeping CHTR because it's only missing one. The percentage of missing data isn't enough to warrant dropping it\\nto_drop = low_stocks.tail(34)\\npls_work = to_drop.reset_index()\\ndrop = pls_work[\\\"index\\\"].values\\ndf[\\\"symbol\\\"] = df[\\\"symbol\\\"].replace(drop, \\\"NaN\\\")\\ndf[\\\"symbol\\\"]\";\n",
       "                var nbb_cells = Jupyter.notebook.get_cells();\n",
       "                for (var i = 0; i < nbb_cells.length; ++i) {\n",
       "                    if (nbb_cells[i].input_prompt_number == nbb_cell_id) {\n",
       "                        if (nbb_cells[i].get_text() == nbb_unformatted_code) {\n",
       "                             nbb_cells[i].set_text(nbb_formatted_code);\n",
       "                        }\n",
       "                        break;\n",
       "                    }\n",
       "                }\n",
       "            }, 500);\n",
       "            "
      ],
      "text/plain": [
       "<IPython.core.display.Javascript object>"
      ]
     },
     "metadata": {},
     "output_type": "display_data"
    }
   ],
   "source": [
    "# keeping CHTR because it's only missing one. The percentage of missing data isn't enough to warrant dropping it\n",
    "to_drop = low_stocks.tail(34)\n",
    "pls_work = to_drop.reset_index()\n",
    "drop = pls_work[\"index\"].values\n",
    "df[\"symbol\"] = df[\"symbol\"].replace(drop, \"NaN\")\n",
    "df[\"symbol\"]"
   ]
  },
  {
   "cell_type": "code",
   "execution_count": 11,
   "metadata": {
    "scrolled": false
   },
   "outputs": [
    {
     "data": {
      "text/plain": [
       "DLTR    1762\n",
       "O       1762\n",
       "WDC     1762\n",
       "ORLY    1762\n",
       "VZ      1762\n",
       "        ... \n",
       "CMS     1762\n",
       "ITW     1762\n",
       "CBS     1762\n",
       "MDLZ    1762\n",
       "OKE     1762\n",
       "Name: symbol, Length: 467, dtype: int64"
      ]
     },
     "execution_count": 11,
     "metadata": {},
     "output_type": "execute_result"
    },
    {
     "data": {
      "application/javascript": [
       "\n",
       "            setTimeout(function() {\n",
       "                var nbb_cell_id = 11;\n",
       "                var nbb_unformatted_code = \"df_full = df[~df[\\\"symbol\\\"].str.contains(\\\"NaN\\\")]\\ndf_full[\\\"symbol\\\"].value_counts()\";\n",
       "                var nbb_formatted_code = \"df_full = df[~df[\\\"symbol\\\"].str.contains(\\\"NaN\\\")]\\ndf_full[\\\"symbol\\\"].value_counts()\";\n",
       "                var nbb_cells = Jupyter.notebook.get_cells();\n",
       "                for (var i = 0; i < nbb_cells.length; ++i) {\n",
       "                    if (nbb_cells[i].input_prompt_number == nbb_cell_id) {\n",
       "                        if (nbb_cells[i].get_text() == nbb_unformatted_code) {\n",
       "                             nbb_cells[i].set_text(nbb_formatted_code);\n",
       "                        }\n",
       "                        break;\n",
       "                    }\n",
       "                }\n",
       "            }, 500);\n",
       "            "
      ],
      "text/plain": [
       "<IPython.core.display.Javascript object>"
      ]
     },
     "metadata": {},
     "output_type": "display_data"
    }
   ],
   "source": [
    "df_full = df[~df[\"symbol\"].str.contains(\"NaN\")]\n",
    "df_full[\"symbol\"].value_counts()"
   ]
  },
  {
   "cell_type": "code",
   "execution_count": 12,
   "metadata": {},
   "outputs": [
    {
     "data": {
      "text/html": [
       "<div>\n",
       "<style scoped>\n",
       "    .dataframe tbody tr th:only-of-type {\n",
       "        vertical-align: middle;\n",
       "    }\n",
       "\n",
       "    .dataframe tbody tr th {\n",
       "        vertical-align: top;\n",
       "    }\n",
       "\n",
       "    .dataframe thead th {\n",
       "        text-align: right;\n",
       "    }\n",
       "</style>\n",
       "<table border=\"1\" class=\"dataframe\">\n",
       "  <thead>\n",
       "    <tr style=\"text-align: right;\">\n",
       "      <th></th>\n",
       "      <th>date</th>\n",
       "      <th>symbol</th>\n",
       "      <th>open</th>\n",
       "      <th>close</th>\n",
       "      <th>low</th>\n",
       "      <th>high</th>\n",
       "      <th>volume</th>\n",
       "      <th>year</th>\n",
       "      <th>month</th>\n",
       "      <th>day</th>\n",
       "    </tr>\n",
       "  </thead>\n",
       "  <tbody>\n",
       "    <tr>\n",
       "      <th>251</th>\n",
       "      <td>2010-01-04</td>\n",
       "      <td>A</td>\n",
       "      <td>31.389999</td>\n",
       "      <td>31.300001</td>\n",
       "      <td>31.130000</td>\n",
       "      <td>31.630001</td>\n",
       "      <td>3815500.0</td>\n",
       "      <td>2010</td>\n",
       "      <td>1</td>\n",
       "      <td>4</td>\n",
       "    </tr>\n",
       "    <tr>\n",
       "      <th>252</th>\n",
       "      <td>2010-01-04</td>\n",
       "      <td>AAL</td>\n",
       "      <td>4.840000</td>\n",
       "      <td>4.770000</td>\n",
       "      <td>4.660000</td>\n",
       "      <td>4.940000</td>\n",
       "      <td>9837300.0</td>\n",
       "      <td>2010</td>\n",
       "      <td>1</td>\n",
       "      <td>4</td>\n",
       "    </tr>\n",
       "    <tr>\n",
       "      <th>253</th>\n",
       "      <td>2010-01-04</td>\n",
       "      <td>AAP</td>\n",
       "      <td>40.700001</td>\n",
       "      <td>40.380001</td>\n",
       "      <td>40.360001</td>\n",
       "      <td>41.040001</td>\n",
       "      <td>1701700.0</td>\n",
       "      <td>2010</td>\n",
       "      <td>1</td>\n",
       "      <td>4</td>\n",
       "    </tr>\n",
       "    <tr>\n",
       "      <th>254</th>\n",
       "      <td>2010-01-04</td>\n",
       "      <td>AAPL</td>\n",
       "      <td>213.429998</td>\n",
       "      <td>214.009998</td>\n",
       "      <td>212.380001</td>\n",
       "      <td>214.499996</td>\n",
       "      <td>123432400.0</td>\n",
       "      <td>2010</td>\n",
       "      <td>1</td>\n",
       "      <td>4</td>\n",
       "    </tr>\n",
       "    <tr>\n",
       "      <th>255</th>\n",
       "      <td>2010-01-04</td>\n",
       "      <td>ABC</td>\n",
       "      <td>26.290001</td>\n",
       "      <td>26.629999</td>\n",
       "      <td>26.139999</td>\n",
       "      <td>26.690001</td>\n",
       "      <td>2455900.0</td>\n",
       "      <td>2010</td>\n",
       "      <td>1</td>\n",
       "      <td>4</td>\n",
       "    </tr>\n",
       "    <tr>\n",
       "      <th>...</th>\n",
       "      <td>...</td>\n",
       "      <td>...</td>\n",
       "      <td>...</td>\n",
       "      <td>...</td>\n",
       "      <td>...</td>\n",
       "      <td>...</td>\n",
       "      <td>...</td>\n",
       "      <td>...</td>\n",
       "      <td>...</td>\n",
       "      <td>...</td>\n",
       "    </tr>\n",
       "    <tr>\n",
       "      <th>851257</th>\n",
       "      <td>2016-12-30</td>\n",
       "      <td>YHOO</td>\n",
       "      <td>38.720001</td>\n",
       "      <td>38.669998</td>\n",
       "      <td>38.430000</td>\n",
       "      <td>39.000000</td>\n",
       "      <td>6431600.0</td>\n",
       "      <td>2016</td>\n",
       "      <td>12</td>\n",
       "      <td>30</td>\n",
       "    </tr>\n",
       "    <tr>\n",
       "      <th>851258</th>\n",
       "      <td>2016-12-30</td>\n",
       "      <td>YUM</td>\n",
       "      <td>63.930000</td>\n",
       "      <td>63.330002</td>\n",
       "      <td>63.160000</td>\n",
       "      <td>63.939999</td>\n",
       "      <td>1887100.0</td>\n",
       "      <td>2016</td>\n",
       "      <td>12</td>\n",
       "      <td>30</td>\n",
       "    </tr>\n",
       "    <tr>\n",
       "      <th>851259</th>\n",
       "      <td>2016-12-30</td>\n",
       "      <td>ZBH</td>\n",
       "      <td>103.309998</td>\n",
       "      <td>103.199997</td>\n",
       "      <td>102.849998</td>\n",
       "      <td>103.930000</td>\n",
       "      <td>973800.0</td>\n",
       "      <td>2016</td>\n",
       "      <td>12</td>\n",
       "      <td>30</td>\n",
       "    </tr>\n",
       "    <tr>\n",
       "      <th>851260</th>\n",
       "      <td>2016-12-30</td>\n",
       "      <td>ZION</td>\n",
       "      <td>43.070000</td>\n",
       "      <td>43.040001</td>\n",
       "      <td>42.689999</td>\n",
       "      <td>43.310001</td>\n",
       "      <td>1938100.0</td>\n",
       "      <td>2016</td>\n",
       "      <td>12</td>\n",
       "      <td>30</td>\n",
       "    </tr>\n",
       "    <tr>\n",
       "      <th>851262</th>\n",
       "      <td>2016-12-30</td>\n",
       "      <td>AIV</td>\n",
       "      <td>44.730000</td>\n",
       "      <td>45.450001</td>\n",
       "      <td>44.410000</td>\n",
       "      <td>45.590000</td>\n",
       "      <td>1380900.0</td>\n",
       "      <td>2016</td>\n",
       "      <td>12</td>\n",
       "      <td>30</td>\n",
       "    </tr>\n",
       "  </tbody>\n",
       "</table>\n",
       "<p>822854 rows × 10 columns</p>\n",
       "</div>"
      ],
      "text/plain": [
       "             date symbol        open       close         low        high  \\\n",
       "251    2010-01-04      A   31.389999   31.300001   31.130000   31.630001   \n",
       "252    2010-01-04    AAL    4.840000    4.770000    4.660000    4.940000   \n",
       "253    2010-01-04    AAP   40.700001   40.380001   40.360001   41.040001   \n",
       "254    2010-01-04   AAPL  213.429998  214.009998  212.380001  214.499996   \n",
       "255    2010-01-04    ABC   26.290001   26.629999   26.139999   26.690001   \n",
       "...           ...    ...         ...         ...         ...         ...   \n",
       "851257 2016-12-30   YHOO   38.720001   38.669998   38.430000   39.000000   \n",
       "851258 2016-12-30    YUM   63.930000   63.330002   63.160000   63.939999   \n",
       "851259 2016-12-30    ZBH  103.309998  103.199997  102.849998  103.930000   \n",
       "851260 2016-12-30   ZION   43.070000   43.040001   42.689999   43.310001   \n",
       "851262 2016-12-30    AIV   44.730000   45.450001   44.410000   45.590000   \n",
       "\n",
       "             volume  year  month  day  \n",
       "251       3815500.0  2010      1    4  \n",
       "252       9837300.0  2010      1    4  \n",
       "253       1701700.0  2010      1    4  \n",
       "254     123432400.0  2010      1    4  \n",
       "255       2455900.0  2010      1    4  \n",
       "...             ...   ...    ...  ...  \n",
       "851257    6431600.0  2016     12   30  \n",
       "851258    1887100.0  2016     12   30  \n",
       "851259     973800.0  2016     12   30  \n",
       "851260    1938100.0  2016     12   30  \n",
       "851262    1380900.0  2016     12   30  \n",
       "\n",
       "[822854 rows x 10 columns]"
      ]
     },
     "execution_count": 12,
     "metadata": {},
     "output_type": "execute_result"
    },
    {
     "data": {
      "application/javascript": [
       "\n",
       "            setTimeout(function() {\n",
       "                var nbb_cell_id = 12;\n",
       "                var nbb_unformatted_code = \"df_full\";\n",
       "                var nbb_formatted_code = \"df_full\";\n",
       "                var nbb_cells = Jupyter.notebook.get_cells();\n",
       "                for (var i = 0; i < nbb_cells.length; ++i) {\n",
       "                    if (nbb_cells[i].input_prompt_number == nbb_cell_id) {\n",
       "                        if (nbb_cells[i].get_text() == nbb_unformatted_code) {\n",
       "                             nbb_cells[i].set_text(nbb_formatted_code);\n",
       "                        }\n",
       "                        break;\n",
       "                    }\n",
       "                }\n",
       "            }, 500);\n",
       "            "
      ],
      "text/plain": [
       "<IPython.core.display.Javascript object>"
      ]
     },
     "metadata": {},
     "output_type": "display_data"
    }
   ],
   "source": [
    "df_full"
   ]
  },
  {
   "cell_type": "code",
   "execution_count": 13,
   "metadata": {},
   "outputs": [
    {
     "data": {
      "text/plain": [
       "Index(['date', 'symbol', 'open', 'close', 'low', 'high', 'volume', 'year',\n",
       "       'month', 'day'],\n",
       "      dtype='object')"
      ]
     },
     "execution_count": 13,
     "metadata": {},
     "output_type": "execute_result"
    },
    {
     "data": {
      "application/javascript": [
       "\n",
       "            setTimeout(function() {\n",
       "                var nbb_cell_id = 13;\n",
       "                var nbb_unformatted_code = \"df_full.columns\";\n",
       "                var nbb_formatted_code = \"df_full.columns\";\n",
       "                var nbb_cells = Jupyter.notebook.get_cells();\n",
       "                for (var i = 0; i < nbb_cells.length; ++i) {\n",
       "                    if (nbb_cells[i].input_prompt_number == nbb_cell_id) {\n",
       "                        if (nbb_cells[i].get_text() == nbb_unformatted_code) {\n",
       "                             nbb_cells[i].set_text(nbb_formatted_code);\n",
       "                        }\n",
       "                        break;\n",
       "                    }\n",
       "                }\n",
       "            }, 500);\n",
       "            "
      ],
      "text/plain": [
       "<IPython.core.display.Javascript object>"
      ]
     },
     "metadata": {},
     "output_type": "display_data"
    }
   ],
   "source": [
    "df_full.columns"
   ]
  },
  {
   "cell_type": "code",
   "execution_count": 14,
   "metadata": {
    "scrolled": true
   },
   "outputs": [
    {
     "data": {
      "text/plain": [
       "<matplotlib.axes._subplots.AxesSubplot at 0x23dfa45c348>"
      ]
     },
     "execution_count": 14,
     "metadata": {},
     "output_type": "execute_result"
    },
    {
     "data": {
      "image/png": "[encoded data removed]",
      "text/plain": [
       "<Figure size 432x288 with 1 Axes>"
      ]
     },
     "metadata": {
      "needs_background": "light"
     },
     "output_type": "display_data"
    },
    {
     "data": {
      "application/javascript": [
       "\n",
       "            setTimeout(function() {\n",
       "                var nbb_cell_id = 14;\n",
       "                var nbb_unformatted_code = \"# Seems like there are a few groups at the end. The fact that they start similarly but end vastly different is interesting\\nsns.scatterplot(x=\\\"date\\\", y=\\\"open\\\", hue=\\\"symbol\\\", data=df_full)\";\n",
       "                var nbb_formatted_code = \"# Seems like there are a few groups at the end. The fact that they start similarly but end vastly different is interesting\\nsns.scatterplot(x=\\\"date\\\", y=\\\"open\\\", hue=\\\"symbol\\\", data=df_full)\";\n",
       "                var nbb_cells = Jupyter.notebook.get_cells();\n",
       "                for (var i = 0; i < nbb_cells.length; ++i) {\n",
       "                    if (nbb_cells[i].input_prompt_number == nbb_cell_id) {\n",
       "                        if (nbb_cells[i].get_text() == nbb_unformatted_code) {\n",
       "                             nbb_cells[i].set_text(nbb_formatted_code);\n",
       "                        }\n",
       "                        break;\n",
       "                    }\n",
       "                }\n",
       "            }, 500);\n",
       "            "
      ],
      "text/plain": [
       "<IPython.core.display.Javascript object>"
      ]
     },
     "metadata": {},
     "output_type": "display_data"
    }
   ],
   "source": [
    "# Seems like there are a few groups at the end. The fact that they start similarly but end vastly different is interesting\n",
    "sns.scatterplot(x=\"date\", y=\"open\", hue=\"symbol\", data=df_full)"
   ]
  },
  {
   "cell_type": "markdown",
   "metadata": {},
   "source": [
    "# We should probably get some more features based on amount change and change per day. These could be valuable to traders. If a stock consistantly has a big high low split, it'd be a good stock to day-trade/scalp. If the open is usually bigger than close, it'd be a good stock to hold longterm, etc."
   ]
  },
  {
   "cell_type": "code",
   "execution_count": 15,
   "metadata": {
    "scrolled": true
   },
   "outputs": [
    {
     "name": "stderr",
     "output_type": "stream",
     "text": [
      "C:\\Users\\jonat\\anaconda3\\lib\\site-packages\\ipykernel_launcher.py:2: SettingWithCopyWarning: \n",
      "A value is trying to be set on a copy of a slice from a DataFrame.\n",
      "Try using .loc[row_indexer,col_indexer] = value instead\n",
      "\n",
      "See the caveats in the documentation: https://pandas.pydata.org/pandas-docs/stable/user_guide/indexing.html#returning-a-view-versus-a-copy\n",
      "  \n",
      "C:\\Users\\jonat\\anaconda3\\lib\\site-packages\\ipykernel_launcher.py:3: SettingWithCopyWarning: \n",
      "A value is trying to be set on a copy of a slice from a DataFrame.\n",
      "Try using .loc[row_indexer,col_indexer] = value instead\n",
      "\n",
      "See the caveats in the documentation: https://pandas.pydata.org/pandas-docs/stable/user_guide/indexing.html#returning-a-view-versus-a-copy\n",
      "  This is separate from the ipykernel package so we can avoid doing imports until\n"
     ]
    },
    {
     "data": {
      "application/javascript": [
       "\n",
       "            setTimeout(function() {\n",
       "                var nbb_cell_id = 15;\n",
       "                var nbb_unformatted_code = \"# Engineer the difference rather than deal with it each time.\\ndf_full[\\\"perc_co_dif\\\"] = ((df_full[\\\"close\\\"] - df_full[\\\"open\\\"]) / df_full[\\\"close\\\"]) * 100\\ndf_full[\\\"perc_hl_dif\\\"] = ((df_full[\\\"high\\\"] - df_full[\\\"low\\\"]) / df_full[\\\"close\\\"]) * 100\\ndf_full = df_full.reset_index().drop(columns=\\\"index\\\")\\n# df_full\";\n",
       "                var nbb_formatted_code = \"# Engineer the difference rather than deal with it each time.\\ndf_full[\\\"perc_co_dif\\\"] = ((df_full[\\\"close\\\"] - df_full[\\\"open\\\"]) / df_full[\\\"close\\\"]) * 100\\ndf_full[\\\"perc_hl_dif\\\"] = ((df_full[\\\"high\\\"] - df_full[\\\"low\\\"]) / df_full[\\\"close\\\"]) * 100\\ndf_full = df_full.reset_index().drop(columns=\\\"index\\\")\\n# df_full\";\n",
       "                var nbb_cells = Jupyter.notebook.get_cells();\n",
       "                for (var i = 0; i < nbb_cells.length; ++i) {\n",
       "                    if (nbb_cells[i].input_prompt_number == nbb_cell_id) {\n",
       "                        if (nbb_cells[i].get_text() == nbb_unformatted_code) {\n",
       "                             nbb_cells[i].set_text(nbb_formatted_code);\n",
       "                        }\n",
       "                        break;\n",
       "                    }\n",
       "                }\n",
       "            }, 500);\n",
       "            "
      ],
      "text/plain": [
       "<IPython.core.display.Javascript object>"
      ]
     },
     "metadata": {},
     "output_type": "display_data"
    }
   ],
   "source": [
    "# Engineer the difference rather than deal with it each time.\n",
    "df_full[\"perc_co_dif\"] = ((df_full[\"close\"] - df_full[\"open\"]) / df_full[\"close\"]) * 100\n",
    "df_full[\"perc_hl_dif\"] = ((df_full[\"high\"] - df_full[\"low\"]) / df_full[\"close\"]) * 100\n",
    "df_full = df_full.reset_index().drop(columns=\"index\")\n",
    "# df_full"
   ]
  },
  {
   "cell_type": "code",
   "execution_count": 16,
   "metadata": {},
   "outputs": [
    {
     "data": {
      "application/javascript": [
       "\n",
       "            setTimeout(function() {\n",
       "                var nbb_cell_id = 16;\n",
       "                var nbb_unformatted_code = \"# There's decent relation between open, close, low, and high. Not too big of a shock\\nnumber = df_full.drop(columns=[\\\"symbol\\\", \\\"date\\\", \\\"year\\\"])\\n# sns.pairplot(number)\";\n",
       "                var nbb_formatted_code = \"# There's decent relation between open, close, low, and high. Not too big of a shock\\nnumber = df_full.drop(columns=[\\\"symbol\\\", \\\"date\\\", \\\"year\\\"])\\n# sns.pairplot(number)\";\n",
       "                var nbb_cells = Jupyter.notebook.get_cells();\n",
       "                for (var i = 0; i < nbb_cells.length; ++i) {\n",
       "                    if (nbb_cells[i].input_prompt_number == nbb_cell_id) {\n",
       "                        if (nbb_cells[i].get_text() == nbb_unformatted_code) {\n",
       "                             nbb_cells[i].set_text(nbb_formatted_code);\n",
       "                        }\n",
       "                        break;\n",
       "                    }\n",
       "                }\n",
       "            }, 500);\n",
       "            "
      ],
      "text/plain": [
       "<IPython.core.display.Javascript object>"
      ]
     },
     "metadata": {},
     "output_type": "display_data"
    }
   ],
   "source": [
    "# There's decent relation between open, close, low, and high. Not too big of a shock\n",
    "number = df_full.drop(columns=[\"symbol\", \"date\", \"year\"])\n",
    "# sns.pairplot(number)"
   ]
  },
  {
   "cell_type": "markdown",
   "metadata": {},
   "source": [
    "# I'm going to scale the data so the wild expensive stocks don't weigh things down too much"
   ]
  },
  {
   "cell_type": "code",
   "execution_count": 17,
   "metadata": {},
   "outputs": [
    {
     "data": {
      "application/javascript": [
       "\n",
       "            setTimeout(function() {\n",
       "                var nbb_cell_id = 17;\n",
       "                var nbb_unformatted_code = \"scaler = StandardScaler()\\nscaled = scaler.fit_transform(number)\\n\\nk_means = KMeans(n_clusters=6, random_state=69)\\nk_means.fit(scaled)\\ny_pred = k_means.predict(scaled)\";\n",
       "                var nbb_formatted_code = \"scaler = StandardScaler()\\nscaled = scaler.fit_transform(number)\\n\\nk_means = KMeans(n_clusters=6, random_state=69)\\nk_means.fit(scaled)\\ny_pred = k_means.predict(scaled)\";\n",
       "                var nbb_cells = Jupyter.notebook.get_cells();\n",
       "                for (var i = 0; i < nbb_cells.length; ++i) {\n",
       "                    if (nbb_cells[i].input_prompt_number == nbb_cell_id) {\n",
       "                        if (nbb_cells[i].get_text() == nbb_unformatted_code) {\n",
       "                             nbb_cells[i].set_text(nbb_formatted_code);\n",
       "                        }\n",
       "                        break;\n",
       "                    }\n",
       "                }\n",
       "            }, 500);\n",
       "            "
      ],
      "text/plain": [
       "<IPython.core.display.Javascript object>"
      ]
     },
     "metadata": {},
     "output_type": "display_data"
    }
   ],
   "source": [
    "scaler = StandardScaler()\n",
    "scaled = scaler.fit_transform(number)\n",
    "\n",
    "k_means = KMeans(n_clusters=6, random_state=69)\n",
    "k_means.fit(scaled)\n",
    "y_pred = k_means.predict(scaled)"
   ]
  },
  {
   "cell_type": "code",
   "execution_count": 18,
   "metadata": {},
   "outputs": [
    {
     "data": {
      "text/html": [
       "<div>\n",
       "<style scoped>\n",
       "    .dataframe tbody tr th:only-of-type {\n",
       "        vertical-align: middle;\n",
       "    }\n",
       "\n",
       "    .dataframe tbody tr th {\n",
       "        vertical-align: top;\n",
       "    }\n",
       "\n",
       "    .dataframe thead th {\n",
       "        text-align: right;\n",
       "    }\n",
       "</style>\n",
       "<table border=\"1\" class=\"dataframe\">\n",
       "  <thead>\n",
       "    <tr style=\"text-align: right;\">\n",
       "      <th></th>\n",
       "      <th>open</th>\n",
       "      <th>close</th>\n",
       "      <th>low</th>\n",
       "      <th>high</th>\n",
       "      <th>volume</th>\n",
       "      <th>month</th>\n",
       "      <th>day</th>\n",
       "      <th>perc_co_dif</th>\n",
       "      <th>perc_hl_dif</th>\n",
       "    </tr>\n",
       "  </thead>\n",
       "  <tbody>\n",
       "    <tr>\n",
       "      <th>0</th>\n",
       "      <td>56.902170</td>\n",
       "      <td>56.905230</td>\n",
       "      <td>56.429895</td>\n",
       "      <td>57.359261</td>\n",
       "      <td>3.927554e+06</td>\n",
       "      <td>9.569649</td>\n",
       "      <td>16.001503</td>\n",
       "      <td>-0.000663</td>\n",
       "      <td>1.673747</td>\n",
       "    </tr>\n",
       "    <tr>\n",
       "      <th>1</th>\n",
       "      <td>56.086915</td>\n",
       "      <td>56.115779</td>\n",
       "      <td>55.621292</td>\n",
       "      <td>56.554982</td>\n",
       "      <td>4.242318e+06</td>\n",
       "      <td>3.482716</td>\n",
       "      <td>15.647461</td>\n",
       "      <td>0.046025</td>\n",
       "      <td>1.694315</td>\n",
       "    </tr>\n",
       "    <tr>\n",
       "      <th>2</th>\n",
       "      <td>201.905924</td>\n",
       "      <td>201.966246</td>\n",
       "      <td>199.899703</td>\n",
       "      <td>203.887601</td>\n",
       "      <td>3.086673e+06</td>\n",
       "      <td>6.753377</td>\n",
       "      <td>15.762467</td>\n",
       "      <td>0.023471</td>\n",
       "      <td>1.923318</td>\n",
       "    </tr>\n",
       "    <tr>\n",
       "      <th>3</th>\n",
       "      <td>45.070766</td>\n",
       "      <td>46.292927</td>\n",
       "      <td>44.726417</td>\n",
       "      <td>46.639956</td>\n",
       "      <td>8.884185e+06</td>\n",
       "      <td>6.627634</td>\n",
       "      <td>15.088667</td>\n",
       "      <td>2.578858</td>\n",
       "      <td>4.119898</td>\n",
       "    </tr>\n",
       "    <tr>\n",
       "      <th>4</th>\n",
       "      <td>44.230220</td>\n",
       "      <td>43.026287</td>\n",
       "      <td>42.637804</td>\n",
       "      <td>44.543647</td>\n",
       "      <td>1.597298e+07</td>\n",
       "      <td>6.458118</td>\n",
       "      <td>15.134783</td>\n",
       "      <td>-2.660568</td>\n",
       "      <td>4.363764</td>\n",
       "    </tr>\n",
       "    <tr>\n",
       "      <th>5</th>\n",
       "      <td>680.214531</td>\n",
       "      <td>680.095832</td>\n",
       "      <td>673.567041</td>\n",
       "      <td>686.390133</td>\n",
       "      <td>9.523682e+06</td>\n",
       "      <td>6.611924</td>\n",
       "      <td>15.736078</td>\n",
       "      <td>-0.025377</td>\n",
       "      <td>1.927275</td>\n",
       "    </tr>\n",
       "  </tbody>\n",
       "</table>\n",
       "</div>"
      ],
      "text/plain": [
       "         open       close         low        high        volume     month  \\\n",
       "0   56.902170   56.905230   56.429895   57.359261  3.927554e+06  9.569649   \n",
       "1   56.086915   56.115779   55.621292   56.554982  4.242318e+06  3.482716   \n",
       "2  201.905924  201.966246  199.899703  203.887601  3.086673e+06  6.753377   \n",
       "3   45.070766   46.292927   44.726417   46.639956  8.884185e+06  6.627634   \n",
       "4   44.230220   43.026287   42.637804   44.543647  1.597298e+07  6.458118   \n",
       "5  680.214531  680.095832  673.567041  686.390133  9.523682e+06  6.611924   \n",
       "\n",
       "         day  perc_co_dif  perc_hl_dif  \n",
       "0  16.001503    -0.000663     1.673747  \n",
       "1  15.647461     0.046025     1.694315  \n",
       "2  15.762467     0.023471     1.923318  \n",
       "3  15.088667     2.578858     4.119898  \n",
       "4  15.134783    -2.660568     4.363764  \n",
       "5  15.736078    -0.025377     1.927275  "
      ]
     },
     "execution_count": 18,
     "metadata": {},
     "output_type": "execute_result"
    },
    {
     "data": {
      "application/javascript": [
       "\n",
       "            setTimeout(function() {\n",
       "                var nbb_cell_id = 18;\n",
       "                var nbb_unformatted_code = \"columns = number.columns\\ncentroids = scaler.inverse_transform(k_means.cluster_centers_)\\ncentroids_df = pd.DataFrame(centroids, columns=number.columns)\\ncentroids_df\";\n",
       "                var nbb_formatted_code = \"columns = number.columns\\ncentroids = scaler.inverse_transform(k_means.cluster_centers_)\\ncentroids_df = pd.DataFrame(centroids, columns=number.columns)\\ncentroids_df\";\n",
       "                var nbb_cells = Jupyter.notebook.get_cells();\n",
       "                for (var i = 0; i < nbb_cells.length; ++i) {\n",
       "                    if (nbb_cells[i].input_prompt_number == nbb_cell_id) {\n",
       "                        if (nbb_cells[i].get_text() == nbb_unformatted_code) {\n",
       "                             nbb_cells[i].set_text(nbb_formatted_code);\n",
       "                        }\n",
       "                        break;\n",
       "                    }\n",
       "                }\n",
       "            }, 500);\n",
       "            "
      ],
      "text/plain": [
       "<IPython.core.display.Javascript object>"
      ]
     },
     "metadata": {},
     "output_type": "display_data"
    }
   ],
   "source": [
    "columns = number.columns\n",
    "centroids = scaler.inverse_transform(k_means.cluster_centers_)\n",
    "centroids_df = pd.DataFrame(centroids, columns=number.columns)\n",
    "centroids_df"
   ]
  },
  {
   "cell_type": "code",
   "execution_count": 19,
   "metadata": {},
   "outputs": [
    {
     "data": {
      "application/javascript": [
       "\n",
       "            setTimeout(function() {\n",
       "                var nbb_cell_id = 19;\n",
       "                var nbb_unformatted_code = \"number[\\\"label6\\\"] = k_means.labels_\\n# sns.pairplot(number, hue=\\\"label6\\\")\\n# plt.show()\";\n",
       "                var nbb_formatted_code = \"number[\\\"label6\\\"] = k_means.labels_\\n# sns.pairplot(number, hue=\\\"label6\\\")\\n# plt.show()\";\n",
       "                var nbb_cells = Jupyter.notebook.get_cells();\n",
       "                for (var i = 0; i < nbb_cells.length; ++i) {\n",
       "                    if (nbb_cells[i].input_prompt_number == nbb_cell_id) {\n",
       "                        if (nbb_cells[i].get_text() == nbb_unformatted_code) {\n",
       "                             nbb_cells[i].set_text(nbb_formatted_code);\n",
       "                        }\n",
       "                        break;\n",
       "                    }\n",
       "                }\n",
       "            }, 500);\n",
       "            "
      ],
      "text/plain": [
       "<IPython.core.display.Javascript object>"
      ]
     },
     "metadata": {},
     "output_type": "display_data"
    }
   ],
   "source": [
    "number[\"label6\"] = k_means.labels_\n",
    "# sns.pairplot(number, hue=\"label6\")\n",
    "# plt.show()"
   ]
  },
  {
   "cell_type": "code",
   "execution_count": 20,
   "metadata": {},
   "outputs": [
    {
     "data": {
      "text/plain": [
       "Index(['open', 'close', 'low', 'high', 'volume', 'month', 'day', 'perc_co_dif',\n",
       "       'perc_hl_dif'],\n",
       "      dtype='object')"
      ]
     },
     "execution_count": 20,
     "metadata": {},
     "output_type": "execute_result"
    },
    {
     "data": {
      "application/javascript": [
       "\n",
       "            setTimeout(function() {\n",
       "                var nbb_cell_id = 20;\n",
       "                var nbb_unformatted_code = \"# # Now let's look at 4 to see if those two need to be in there\\nnumber4 = number.drop(columns=\\\"label6\\\")\\nnumber4.columns\\n# sns.pairplot(number4, hue=\\\"label4\\\")\";\n",
       "                var nbb_formatted_code = \"# # Now let's look at 4 to see if those two need to be in there\\nnumber4 = number.drop(columns=\\\"label6\\\")\\nnumber4.columns\\n# sns.pairplot(number4, hue=\\\"label4\\\")\";\n",
       "                var nbb_cells = Jupyter.notebook.get_cells();\n",
       "                for (var i = 0; i < nbb_cells.length; ++i) {\n",
       "                    if (nbb_cells[i].input_prompt_number == nbb_cell_id) {\n",
       "                        if (nbb_cells[i].get_text() == nbb_unformatted_code) {\n",
       "                             nbb_cells[i].set_text(nbb_formatted_code);\n",
       "                        }\n",
       "                        break;\n",
       "                    }\n",
       "                }\n",
       "            }, 500);\n",
       "            "
      ],
      "text/plain": [
       "<IPython.core.display.Javascript object>"
      ]
     },
     "metadata": {},
     "output_type": "display_data"
    }
   ],
   "source": [
    "# # Now let's look at 4 to see if those two need to be in there\n",
    "number4 = number.drop(columns=\"label6\")\n",
    "number4.columns\n",
    "# sns.pairplot(number4, hue=\"label4\")"
   ]
  },
  {
   "cell_type": "code",
   "execution_count": 21,
   "metadata": {},
   "outputs": [
    {
     "data": {
      "application/javascript": [
       "\n",
       "            setTimeout(function() {\n",
       "                var nbb_cell_id = 21;\n",
       "                var nbb_unformatted_code = \"k_means_4 = KMeans(n_clusters=4, random_state=69)\\nk_means_4.fit(scaled)\\ny_pred = k_means_4.predict(scaled)\\ncentroids_4 = scaler.inverse_transform(k_means_4.cluster_centers_)\\nnumber[\\\"label4\\\"] = k_means_4.labels_\";\n",
       "                var nbb_formatted_code = \"k_means_4 = KMeans(n_clusters=4, random_state=69)\\nk_means_4.fit(scaled)\\ny_pred = k_means_4.predict(scaled)\\ncentroids_4 = scaler.inverse_transform(k_means_4.cluster_centers_)\\nnumber[\\\"label4\\\"] = k_means_4.labels_\";\n",
       "                var nbb_cells = Jupyter.notebook.get_cells();\n",
       "                for (var i = 0; i < nbb_cells.length; ++i) {\n",
       "                    if (nbb_cells[i].input_prompt_number == nbb_cell_id) {\n",
       "                        if (nbb_cells[i].get_text() == nbb_unformatted_code) {\n",
       "                             nbb_cells[i].set_text(nbb_formatted_code);\n",
       "                        }\n",
       "                        break;\n",
       "                    }\n",
       "                }\n",
       "            }, 500);\n",
       "            "
      ],
      "text/plain": [
       "<IPython.core.display.Javascript object>"
      ]
     },
     "metadata": {},
     "output_type": "display_data"
    }
   ],
   "source": [
    "k_means_4 = KMeans(n_clusters=4, random_state=69)\n",
    "k_means_4.fit(scaled)\n",
    "y_pred = k_means_4.predict(scaled)\n",
    "centroids_4 = scaler.inverse_transform(k_means_4.cluster_centers_)\n",
    "number[\"label4\"] = k_means_4.labels_"
   ]
  },
  {
   "cell_type": "code",
   "execution_count": 22,
   "metadata": {},
   "outputs": [
    {
     "data": {
      "application/javascript": [
       "\n",
       "            setTimeout(function() {\n",
       "                var nbb_cell_id = 22;\n",
       "                var nbb_unformatted_code = \"k_means_5 = KMeans(n_clusters=5, random_state=69)\\nk_means_5.fit(scaled)\\ny_pred = k_means_5.predict(scaled)\\ncentroids_5 = scaler.inverse_transform(k_means_5.cluster_centers_)\\nnumber[\\\"label5\\\"] = k_means_5.labels_\";\n",
       "                var nbb_formatted_code = \"k_means_5 = KMeans(n_clusters=5, random_state=69)\\nk_means_5.fit(scaled)\\ny_pred = k_means_5.predict(scaled)\\ncentroids_5 = scaler.inverse_transform(k_means_5.cluster_centers_)\\nnumber[\\\"label5\\\"] = k_means_5.labels_\";\n",
       "                var nbb_cells = Jupyter.notebook.get_cells();\n",
       "                for (var i = 0; i < nbb_cells.length; ++i) {\n",
       "                    if (nbb_cells[i].input_prompt_number == nbb_cell_id) {\n",
       "                        if (nbb_cells[i].get_text() == nbb_unformatted_code) {\n",
       "                             nbb_cells[i].set_text(nbb_formatted_code);\n",
       "                        }\n",
       "                        break;\n",
       "                    }\n",
       "                }\n",
       "            }, 500);\n",
       "            "
      ],
      "text/plain": [
       "<IPython.core.display.Javascript object>"
      ]
     },
     "metadata": {},
     "output_type": "display_data"
    }
   ],
   "source": [
    "k_means_5 = KMeans(n_clusters=5, random_state=69)\n",
    "k_means_5.fit(scaled)\n",
    "y_pred = k_means_5.predict(scaled)\n",
    "centroids_5 = scaler.inverse_transform(k_means_5.cluster_centers_)\n",
    "number[\"label5\"] = k_means_5.labels_"
   ]
  },
  {
   "cell_type": "code",
   "execution_count": 23,
   "metadata": {},
   "outputs": [
    {
     "data": {
      "text/html": [
       "<div>\n",
       "<style scoped>\n",
       "    .dataframe tbody tr th:only-of-type {\n",
       "        vertical-align: middle;\n",
       "    }\n",
       "\n",
       "    .dataframe tbody tr th {\n",
       "        vertical-align: top;\n",
       "    }\n",
       "\n",
       "    .dataframe thead th {\n",
       "        text-align: right;\n",
       "    }\n",
       "</style>\n",
       "<table border=\"1\" class=\"dataframe\">\n",
       "  <thead>\n",
       "    <tr style=\"text-align: right;\">\n",
       "      <th></th>\n",
       "      <th>open</th>\n",
       "      <th>close</th>\n",
       "      <th>low</th>\n",
       "      <th>high</th>\n",
       "      <th>volume</th>\n",
       "      <th>month</th>\n",
       "      <th>day</th>\n",
       "      <th>perc_co_dif</th>\n",
       "      <th>perc_hl_dif</th>\n",
       "      <th>label6</th>\n",
       "      <th>label4</th>\n",
       "      <th>label5</th>\n",
       "    </tr>\n",
       "  </thead>\n",
       "  <tbody>\n",
       "    <tr>\n",
       "      <th>356109</th>\n",
       "      <td>22.440001</td>\n",
       "      <td>22.360001</td>\n",
       "      <td>22.180000</td>\n",
       "      <td>22.719999</td>\n",
       "      <td>1201400.0</td>\n",
       "      <td>1</td>\n",
       "      <td>14</td>\n",
       "      <td>-0.357782</td>\n",
       "      <td>2.415022</td>\n",
       "      <td>1</td>\n",
       "      <td>1</td>\n",
       "      <td>4</td>\n",
       "    </tr>\n",
       "    <tr>\n",
       "      <th>801647</th>\n",
       "      <td>60.529999</td>\n",
       "      <td>60.549999</td>\n",
       "      <td>60.110001</td>\n",
       "      <td>60.759998</td>\n",
       "      <td>1552000.0</td>\n",
       "      <td>10</td>\n",
       "      <td>26</td>\n",
       "      <td>0.033031</td>\n",
       "      <td>1.073488</td>\n",
       "      <td>0</td>\n",
       "      <td>3</td>\n",
       "      <td>1</td>\n",
       "    </tr>\n",
       "    <tr>\n",
       "      <th>600505</th>\n",
       "      <td>40.709999</td>\n",
       "      <td>40.230000</td>\n",
       "      <td>40.049999</td>\n",
       "      <td>40.880001</td>\n",
       "      <td>2928400.0</td>\n",
       "      <td>2</td>\n",
       "      <td>11</td>\n",
       "      <td>-1.193137</td>\n",
       "      <td>2.063142</td>\n",
       "      <td>1</td>\n",
       "      <td>1</td>\n",
       "      <td>4</td>\n",
       "    </tr>\n",
       "    <tr>\n",
       "      <th>506341</th>\n",
       "      <td>132.529999</td>\n",
       "      <td>128.699997</td>\n",
       "      <td>128.020004</td>\n",
       "      <td>133.080002</td>\n",
       "      <td>1224500.0</td>\n",
       "      <td>4</td>\n",
       "      <td>25</td>\n",
       "      <td>-2.975915</td>\n",
       "      <td>3.931622</td>\n",
       "      <td>4</td>\n",
       "      <td>0</td>\n",
       "      <td>3</td>\n",
       "    </tr>\n",
       "    <tr>\n",
       "      <th>663406</th>\n",
       "      <td>45.720001</td>\n",
       "      <td>43.150002</td>\n",
       "      <td>43.009998</td>\n",
       "      <td>45.720001</td>\n",
       "      <td>4786500.0</td>\n",
       "      <td>8</td>\n",
       "      <td>25</td>\n",
       "      <td>-5.955965</td>\n",
       "      <td>6.280424</td>\n",
       "      <td>4</td>\n",
       "      <td>3</td>\n",
       "      <td>3</td>\n",
       "    </tr>\n",
       "    <tr>\n",
       "      <th>...</th>\n",
       "      <td>...</td>\n",
       "      <td>...</td>\n",
       "      <td>...</td>\n",
       "      <td>...</td>\n",
       "      <td>...</td>\n",
       "      <td>...</td>\n",
       "      <td>...</td>\n",
       "      <td>...</td>\n",
       "      <td>...</td>\n",
       "      <td>...</td>\n",
       "      <td>...</td>\n",
       "      <td>...</td>\n",
       "    </tr>\n",
       "    <tr>\n",
       "      <th>385512</th>\n",
       "      <td>18.240000</td>\n",
       "      <td>18.139999</td>\n",
       "      <td>17.910000</td>\n",
       "      <td>18.340000</td>\n",
       "      <td>5709500.0</td>\n",
       "      <td>4</td>\n",
       "      <td>16</td>\n",
       "      <td>-0.551273</td>\n",
       "      <td>2.370452</td>\n",
       "      <td>1</td>\n",
       "      <td>1</td>\n",
       "      <td>4</td>\n",
       "    </tr>\n",
       "    <tr>\n",
       "      <th>343432</th>\n",
       "      <td>12.220000</td>\n",
       "      <td>12.220000</td>\n",
       "      <td>12.100000</td>\n",
       "      <td>12.380000</td>\n",
       "      <td>19057200.0</td>\n",
       "      <td>12</td>\n",
       "      <td>4</td>\n",
       "      <td>0.000000</td>\n",
       "      <td>2.291326</td>\n",
       "      <td>0</td>\n",
       "      <td>3</td>\n",
       "      <td>1</td>\n",
       "    </tr>\n",
       "    <tr>\n",
       "      <th>549130</th>\n",
       "      <td>54.560001</td>\n",
       "      <td>54.160000</td>\n",
       "      <td>54.119999</td>\n",
       "      <td>54.680000</td>\n",
       "      <td>473400.0</td>\n",
       "      <td>9</td>\n",
       "      <td>4</td>\n",
       "      <td>-0.738554</td>\n",
       "      <td>1.033975</td>\n",
       "      <td>0</td>\n",
       "      <td>3</td>\n",
       "      <td>1</td>\n",
       "    </tr>\n",
       "    <tr>\n",
       "      <th>752250</th>\n",
       "      <td>62.849998</td>\n",
       "      <td>62.669998</td>\n",
       "      <td>62.369999</td>\n",
       "      <td>63.360001</td>\n",
       "      <td>978500.0</td>\n",
       "      <td>5</td>\n",
       "      <td>26</td>\n",
       "      <td>-0.287219</td>\n",
       "      <td>1.579706</td>\n",
       "      <td>1</td>\n",
       "      <td>1</td>\n",
       "      <td>4</td>\n",
       "    </tr>\n",
       "    <tr>\n",
       "      <th>152136</th>\n",
       "      <td>73.910004</td>\n",
       "      <td>74.169998</td>\n",
       "      <td>72.949997</td>\n",
       "      <td>74.599998</td>\n",
       "      <td>4361400.0</td>\n",
       "      <td>4</td>\n",
       "      <td>18</td>\n",
       "      <td>0.350538</td>\n",
       "      <td>2.224621</td>\n",
       "      <td>1</td>\n",
       "      <td>1</td>\n",
       "      <td>4</td>\n",
       "    </tr>\n",
       "  </tbody>\n",
       "</table>\n",
       "<p>12345 rows × 12 columns</p>\n",
       "</div>"
      ],
      "text/plain": [
       "              open       close         low        high      volume  month  \\\n",
       "356109   22.440001   22.360001   22.180000   22.719999   1201400.0      1   \n",
       "801647   60.529999   60.549999   60.110001   60.759998   1552000.0     10   \n",
       "600505   40.709999   40.230000   40.049999   40.880001   2928400.0      2   \n",
       "506341  132.529999  128.699997  128.020004  133.080002   1224500.0      4   \n",
       "663406   45.720001   43.150002   43.009998   45.720001   4786500.0      8   \n",
       "...            ...         ...         ...         ...         ...    ...   \n",
       "385512   18.240000   18.139999   17.910000   18.340000   5709500.0      4   \n",
       "343432   12.220000   12.220000   12.100000   12.380000  19057200.0     12   \n",
       "549130   54.560001   54.160000   54.119999   54.680000    473400.0      9   \n",
       "752250   62.849998   62.669998   62.369999   63.360001    978500.0      5   \n",
       "152136   73.910004   74.169998   72.949997   74.599998   4361400.0      4   \n",
       "\n",
       "        day  perc_co_dif  perc_hl_dif  label6  label4  label5  \n",
       "356109   14    -0.357782     2.415022       1       1       4  \n",
       "801647   26     0.033031     1.073488       0       3       1  \n",
       "600505   11    -1.193137     2.063142       1       1       4  \n",
       "506341   25    -2.975915     3.931622       4       0       3  \n",
       "663406   25    -5.955965     6.280424       4       3       3  \n",
       "...     ...          ...          ...     ...     ...     ...  \n",
       "385512   16    -0.551273     2.370452       1       1       4  \n",
       "343432    4     0.000000     2.291326       0       3       1  \n",
       "549130    4    -0.738554     1.033975       0       3       1  \n",
       "752250   26    -0.287219     1.579706       1       1       4  \n",
       "152136   18     0.350538     2.224621       1       1       4  \n",
       "\n",
       "[12345 rows x 12 columns]"
      ]
     },
     "execution_count": 23,
     "metadata": {},
     "output_type": "execute_result"
    },
    {
     "data": {
      "application/javascript": [
       "\n",
       "            setTimeout(function() {\n",
       "                var nbb_cell_id = 23;\n",
       "                var nbb_unformatted_code = \"#\\nsampled = number.copy()\\nsample = sampled.sample(n=12345, random_state=69)\\nsample\";\n",
       "                var nbb_formatted_code = \"#\\nsampled = number.copy()\\nsample = sampled.sample(n=12345, random_state=69)\\nsample\";\n",
       "                var nbb_cells = Jupyter.notebook.get_cells();\n",
       "                for (var i = 0; i < nbb_cells.length; ++i) {\n",
       "                    if (nbb_cells[i].input_prompt_number == nbb_cell_id) {\n",
       "                        if (nbb_cells[i].get_text() == nbb_unformatted_code) {\n",
       "                             nbb_cells[i].set_text(nbb_formatted_code);\n",
       "                        }\n",
       "                        break;\n",
       "                    }\n",
       "                }\n",
       "            }, 500);\n",
       "            "
      ],
      "text/plain": [
       "<IPython.core.display.Javascript object>"
      ]
     },
     "metadata": {},
     "output_type": "display_data"
    }
   ],
   "source": [
    "#\n",
    "sampled = number.copy()\n",
    "sample = sampled.sample(n=12345, random_state=69)\n",
    "sample"
   ]
  },
  {
   "cell_type": "code",
   "execution_count": 24,
   "metadata": {},
   "outputs": [
    {
     "data": {
      "text/plain": [
       "AgglomerativeClustering(affinity='euclidean', compute_full_tree='auto',\n",
       "                        connectivity=None, distance_threshold=None,\n",
       "                        linkage='ward', memory=None, n_clusters=5)"
      ]
     },
     "execution_count": 24,
     "metadata": {},
     "output_type": "execute_result"
    },
    {
     "data": {
      "application/javascript": [
       "\n",
       "            setTimeout(function() {\n",
       "                var nbb_cell_id = 24;\n",
       "                var nbb_unformatted_code = \"# Trying hierarchical for comparison\\ndist_mat = squareform(pdist(sample, metric=\\\"euclid\\\"))\\nclst = AgglomerativeClustering(n_clusters=5, linkage=\\\"ward\\\", affinity=\\\"euclidean\\\")\\nclst.fit(sample)\";\n",
       "                var nbb_formatted_code = \"# Trying hierarchical for comparison\\ndist_mat = squareform(pdist(sample, metric=\\\"euclid\\\"))\\nclst = AgglomerativeClustering(n_clusters=5, linkage=\\\"ward\\\", affinity=\\\"euclidean\\\")\\nclst.fit(sample)\";\n",
       "                var nbb_cells = Jupyter.notebook.get_cells();\n",
       "                for (var i = 0; i < nbb_cells.length; ++i) {\n",
       "                    if (nbb_cells[i].input_prompt_number == nbb_cell_id) {\n",
       "                        if (nbb_cells[i].get_text() == nbb_unformatted_code) {\n",
       "                             nbb_cells[i].set_text(nbb_formatted_code);\n",
       "                        }\n",
       "                        break;\n",
       "                    }\n",
       "                }\n",
       "            }, 500);\n",
       "            "
      ],
      "text/plain": [
       "<IPython.core.display.Javascript object>"
      ]
     },
     "metadata": {},
     "output_type": "display_data"
    }
   ],
   "source": [
    "# Trying hierarchical for comparison\n",
    "dist_mat = squareform(pdist(sample, metric=\"euclid\"))\n",
    "clst = AgglomerativeClustering(n_clusters=5, linkage=\"ward\", affinity=\"euclidean\")\n",
    "clst.fit(sample)"
   ]
  },
  {
   "cell_type": "code",
   "execution_count": 25,
   "metadata": {},
   "outputs": [
    {
     "data": {
      "application/javascript": [
       "\n",
       "            setTimeout(function() {\n",
       "                var nbb_cell_id = 25;\n",
       "                var nbb_unformatted_code = \"# That's pretty useless imo\\n# plt.figure(figsize=(20, 10))\\n# plot_dendrogram(clst)\";\n",
       "                var nbb_formatted_code = \"# That's pretty useless imo\\n# plt.figure(figsize=(20, 10))\\n# plot_dendrogram(clst)\";\n",
       "                var nbb_cells = Jupyter.notebook.get_cells();\n",
       "                for (var i = 0; i < nbb_cells.length; ++i) {\n",
       "                    if (nbb_cells[i].input_prompt_number == nbb_cell_id) {\n",
       "                        if (nbb_cells[i].get_text() == nbb_unformatted_code) {\n",
       "                             nbb_cells[i].set_text(nbb_formatted_code);\n",
       "                        }\n",
       "                        break;\n",
       "                    }\n",
       "                }\n",
       "            }, 500);\n",
       "            "
      ],
      "text/plain": [
       "<IPython.core.display.Javascript object>"
      ]
     },
     "metadata": {},
     "output_type": "display_data"
    }
   ],
   "source": [
    "# That's pretty useless imo\n",
    "# plt.figure(figsize=(20, 10))\n",
    "# plot_dendrogram(clst)"
   ]
  },
  {
   "cell_type": "code",
   "execution_count": 26,
   "metadata": {
    "scrolled": true
   },
   "outputs": [
    {
     "data": {
      "text/html": [
       "<div>\n",
       "<style scoped>\n",
       "    .dataframe tbody tr th:only-of-type {\n",
       "        vertical-align: middle;\n",
       "    }\n",
       "\n",
       "    .dataframe tbody tr th {\n",
       "        vertical-align: top;\n",
       "    }\n",
       "\n",
       "    .dataframe thead th {\n",
       "        text-align: right;\n",
       "    }\n",
       "</style>\n",
       "<table border=\"1\" class=\"dataframe\">\n",
       "  <thead>\n",
       "    <tr style=\"text-align: right;\">\n",
       "      <th></th>\n",
       "      <th>open</th>\n",
       "      <th>close</th>\n",
       "      <th>low</th>\n",
       "      <th>high</th>\n",
       "      <th>volume</th>\n",
       "      <th>month</th>\n",
       "      <th>day</th>\n",
       "      <th>perc_co_dif</th>\n",
       "      <th>perc_hl_dif</th>\n",
       "      <th>label6</th>\n",
       "      <th>label4</th>\n",
       "      <th>label5</th>\n",
       "    </tr>\n",
       "    <tr>\n",
       "      <th>label</th>\n",
       "      <th></th>\n",
       "      <th></th>\n",
       "      <th></th>\n",
       "      <th></th>\n",
       "      <th></th>\n",
       "      <th></th>\n",
       "      <th></th>\n",
       "      <th></th>\n",
       "      <th></th>\n",
       "      <th></th>\n",
       "      <th></th>\n",
       "      <th></th>\n",
       "    </tr>\n",
       "  </thead>\n",
       "  <tbody>\n",
       "    <tr>\n",
       "      <th>0</th>\n",
       "      <td>80.959999</td>\n",
       "      <td>80.327647</td>\n",
       "      <td>79.824705</td>\n",
       "      <td>81.830588</td>\n",
       "      <td>2.176055e+08</td>\n",
       "      <td>5.294118</td>\n",
       "      <td>13.705882</td>\n",
       "      <td>-0.241653</td>\n",
       "      <td>3.684787</td>\n",
       "      <td>4.117647</td>\n",
       "      <td>1.294118</td>\n",
       "      <td>2.882353</td>\n",
       "    </tr>\n",
       "    <tr>\n",
       "      <th>1</th>\n",
       "      <td>85.686270</td>\n",
       "      <td>85.904206</td>\n",
       "      <td>84.911667</td>\n",
       "      <td>86.742699</td>\n",
       "      <td>7.602710e+07</td>\n",
       "      <td>6.753968</td>\n",
       "      <td>15.674603</td>\n",
       "      <td>0.093762</td>\n",
       "      <td>3.129382</td>\n",
       "      <td>3.230159</td>\n",
       "      <td>1.841270</td>\n",
       "      <td>2.603175</td>\n",
       "    </tr>\n",
       "    <tr>\n",
       "      <th>2</th>\n",
       "      <td>52.747389</td>\n",
       "      <td>52.754880</td>\n",
       "      <td>52.098039</td>\n",
       "      <td>53.373354</td>\n",
       "      <td>7.984637e+06</td>\n",
       "      <td>6.370177</td>\n",
       "      <td>15.612997</td>\n",
       "      <td>0.011644</td>\n",
       "      <td>2.477030</td>\n",
       "      <td>1.322599</td>\n",
       "      <td>1.908036</td>\n",
       "      <td>2.532057</td>\n",
       "    </tr>\n",
       "    <tr>\n",
       "      <th>3</th>\n",
       "      <td>37.781529</td>\n",
       "      <td>37.746588</td>\n",
       "      <td>37.214682</td>\n",
       "      <td>38.302164</td>\n",
       "      <td>2.939342e+07</td>\n",
       "      <td>5.962353</td>\n",
       "      <td>15.764706</td>\n",
       "      <td>-0.239691</td>\n",
       "      <td>2.904883</td>\n",
       "      <td>1.821176</td>\n",
       "      <td>1.783529</td>\n",
       "      <td>2.762353</td>\n",
       "    </tr>\n",
       "    <tr>\n",
       "      <th>4</th>\n",
       "      <td>79.523441</td>\n",
       "      <td>79.558330</td>\n",
       "      <td>78.782334</td>\n",
       "      <td>80.257003</td>\n",
       "      <td>1.787606e+06</td>\n",
       "      <td>6.608163</td>\n",
       "      <td>15.961945</td>\n",
       "      <td>0.027096</td>\n",
       "      <td>1.891972</td>\n",
       "      <td>0.957023</td>\n",
       "      <td>1.796158</td>\n",
       "      <td>2.266387</td>\n",
       "    </tr>\n",
       "  </tbody>\n",
       "</table>\n",
       "</div>"
      ],
      "text/plain": [
       "            open      close        low       high        volume     month  \\\n",
       "label                                                                       \n",
       "0      80.959999  80.327647  79.824705  81.830588  2.176055e+08  5.294118   \n",
       "1      85.686270  85.904206  84.911667  86.742699  7.602710e+07  6.753968   \n",
       "2      52.747389  52.754880  52.098039  53.373354  7.984637e+06  6.370177   \n",
       "3      37.781529  37.746588  37.214682  38.302164  2.939342e+07  5.962353   \n",
       "4      79.523441  79.558330  78.782334  80.257003  1.787606e+06  6.608163   \n",
       "\n",
       "             day  perc_co_dif  perc_hl_dif    label6    label4    label5  \n",
       "label                                                                     \n",
       "0      13.705882    -0.241653     3.684787  4.117647  1.294118  2.882353  \n",
       "1      15.674603     0.093762     3.129382  3.230159  1.841270  2.603175  \n",
       "2      15.612997     0.011644     2.477030  1.322599  1.908036  2.532057  \n",
       "3      15.764706    -0.239691     2.904883  1.821176  1.783529  2.762353  \n",
       "4      15.961945     0.027096     1.891972  0.957023  1.796158  2.266387  "
      ]
     },
     "execution_count": 26,
     "metadata": {},
     "output_type": "execute_result"
    },
    {
     "data": {
      "application/javascript": [
       "\n",
       "            setTimeout(function() {\n",
       "                var nbb_cell_id = 26;\n",
       "                var nbb_unformatted_code = \"# Well... These clusters seem like they're not grouped well. Let's check value counts\\nsample[\\\"label\\\"] = clst.labels_\\nsample.groupby(\\\"label\\\").mean()\";\n",
       "                var nbb_formatted_code = \"# Well... These clusters seem like they're not grouped well. Let's check value counts\\nsample[\\\"label\\\"] = clst.labels_\\nsample.groupby(\\\"label\\\").mean()\";\n",
       "                var nbb_cells = Jupyter.notebook.get_cells();\n",
       "                for (var i = 0; i < nbb_cells.length; ++i) {\n",
       "                    if (nbb_cells[i].input_prompt_number == nbb_cell_id) {\n",
       "                        if (nbb_cells[i].get_text() == nbb_unformatted_code) {\n",
       "                             nbb_cells[i].set_text(nbb_formatted_code);\n",
       "                        }\n",
       "                        break;\n",
       "                    }\n",
       "                }\n",
       "            }, 500);\n",
       "            "
      ],
      "text/plain": [
       "<IPython.core.display.Javascript object>"
      ]
     },
     "metadata": {},
     "output_type": "display_data"
    }
   ],
   "source": [
    "# Well... These clusters seem like they're not grouped well. Let's check value counts\n",
    "sample[\"label\"] = clst.labels_\n",
    "sample.groupby(\"label\").mean()"
   ]
  },
  {
   "cell_type": "code",
   "execution_count": 27,
   "metadata": {},
   "outputs": [
    {
     "data": {
      "text/plain": [
       "4    8330\n",
       "2    3447\n",
       "3     425\n",
       "1     126\n",
       "0      17\n",
       "Name: label, dtype: int64"
      ]
     },
     "execution_count": 27,
     "metadata": {},
     "output_type": "execute_result"
    },
    {
     "data": {
      "application/javascript": [
       "\n",
       "            setTimeout(function() {\n",
       "                var nbb_cell_id = 27;\n",
       "                var nbb_unformatted_code = \"sample[\\\"label\\\"].value_counts()\";\n",
       "                var nbb_formatted_code = \"sample[\\\"label\\\"].value_counts()\";\n",
       "                var nbb_cells = Jupyter.notebook.get_cells();\n",
       "                for (var i = 0; i < nbb_cells.length; ++i) {\n",
       "                    if (nbb_cells[i].input_prompt_number == nbb_cell_id) {\n",
       "                        if (nbb_cells[i].get_text() == nbb_unformatted_code) {\n",
       "                             nbb_cells[i].set_text(nbb_formatted_code);\n",
       "                        }\n",
       "                        break;\n",
       "                    }\n",
       "                }\n",
       "            }, 500);\n",
       "            "
      ],
      "text/plain": [
       "<IPython.core.display.Javascript object>"
      ]
     },
     "metadata": {},
     "output_type": "display_data"
    }
   ],
   "source": [
    "sample[\"label\"].value_counts()"
   ]
  },
  {
   "cell_type": "code",
   "execution_count": 28,
   "metadata": {},
   "outputs": [
    {
     "data": {
      "text/plain": [
       "0    313493\n",
       "1    312251\n",
       "3     67949\n",
       "4     65126\n",
       "2     54881\n",
       "5      9154\n",
       "Name: label6, dtype: int64"
      ]
     },
     "execution_count": 28,
     "metadata": {},
     "output_type": "execute_result"
    },
    {
     "data": {
      "application/javascript": [
       "\n",
       "            setTimeout(function() {\n",
       "                var nbb_cell_id = 28;\n",
       "                var nbb_unformatted_code = \"number[\\\"label6\\\"].value_counts()\";\n",
       "                var nbb_formatted_code = \"number[\\\"label6\\\"].value_counts()\";\n",
       "                var nbb_cells = Jupyter.notebook.get_cells();\n",
       "                for (var i = 0; i < nbb_cells.length; ++i) {\n",
       "                    if (nbb_cells[i].input_prompt_number == nbb_cell_id) {\n",
       "                        if (nbb_cells[i].get_text() == nbb_unformatted_code) {\n",
       "                             nbb_cells[i].set_text(nbb_formatted_code);\n",
       "                        }\n",
       "                        break;\n",
       "                    }\n",
       "                }\n",
       "            }, 500);\n",
       "            "
      ],
      "text/plain": [
       "<IPython.core.display.Javascript object>"
      ]
     },
     "metadata": {},
     "output_type": "display_data"
    }
   ],
   "source": [
    "number[\"label6\"].value_counts()"
   ]
  },
  {
   "cell_type": "code",
   "execution_count": 29,
   "metadata": {},
   "outputs": [
    {
     "data": {
      "text/plain": [
       "3    374836\n",
       "1    370518\n",
       "0     68100\n",
       "2      9400\n",
       "Name: label4, dtype: int64"
      ]
     },
     "execution_count": 29,
     "metadata": {},
     "output_type": "execute_result"
    },
    {
     "data": {
      "application/javascript": [
       "\n",
       "            setTimeout(function() {\n",
       "                var nbb_cell_id = 29;\n",
       "                var nbb_unformatted_code = \"number[\\\"label4\\\"].value_counts()\";\n",
       "                var nbb_formatted_code = \"number[\\\"label4\\\"].value_counts()\";\n",
       "                var nbb_cells = Jupyter.notebook.get_cells();\n",
       "                for (var i = 0; i < nbb_cells.length; ++i) {\n",
       "                    if (nbb_cells[i].input_prompt_number == nbb_cell_id) {\n",
       "                        if (nbb_cells[i].get_text() == nbb_unformatted_code) {\n",
       "                             nbb_cells[i].set_text(nbb_formatted_code);\n",
       "                        }\n",
       "                        break;\n",
       "                    }\n",
       "                }\n",
       "            }, 500);\n",
       "            "
      ],
      "text/plain": [
       "<IPython.core.display.Javascript object>"
      ]
     },
     "metadata": {},
     "output_type": "display_data"
    }
   ],
   "source": [
    "number[\"label4\"].value_counts()"
   ]
  },
  {
   "cell_type": "code",
   "execution_count": 30,
   "metadata": {},
   "outputs": [
    {
     "data": {
      "text/plain": [
       "1    344816\n",
       "4    340059\n",
       "3     69327\n",
       "0     59414\n",
       "2      9238\n",
       "Name: label5, dtype: int64"
      ]
     },
     "execution_count": 30,
     "metadata": {},
     "output_type": "execute_result"
    },
    {
     "data": {
      "application/javascript": [
       "\n",
       "            setTimeout(function() {\n",
       "                var nbb_cell_id = 30;\n",
       "                var nbb_unformatted_code = \"number[\\\"label5\\\"].value_counts()\";\n",
       "                var nbb_formatted_code = \"number[\\\"label5\\\"].value_counts()\";\n",
       "                var nbb_cells = Jupyter.notebook.get_cells();\n",
       "                for (var i = 0; i < nbb_cells.length; ++i) {\n",
       "                    if (nbb_cells[i].input_prompt_number == nbb_cell_id) {\n",
       "                        if (nbb_cells[i].get_text() == nbb_unformatted_code) {\n",
       "                             nbb_cells[i].set_text(nbb_formatted_code);\n",
       "                        }\n",
       "                        break;\n",
       "                    }\n",
       "                }\n",
       "            }, 500);\n",
       "            "
      ],
      "text/plain": [
       "<IPython.core.display.Javascript object>"
      ]
     },
     "metadata": {},
     "output_type": "display_data"
    }
   ],
   "source": [
    "number[\"label5\"].value_counts()"
   ]
  },
  {
   "cell_type": "code",
   "execution_count": 31,
   "metadata": {},
   "outputs": [
    {
     "data": {
      "text/html": [
       "<div>\n",
       "<style scoped>\n",
       "    .dataframe tbody tr th:only-of-type {\n",
       "        vertical-align: middle;\n",
       "    }\n",
       "\n",
       "    .dataframe tbody tr th {\n",
       "        vertical-align: top;\n",
       "    }\n",
       "\n",
       "    .dataframe thead th {\n",
       "        text-align: right;\n",
       "    }\n",
       "</style>\n",
       "<table border=\"1\" class=\"dataframe\">\n",
       "  <thead>\n",
       "    <tr style=\"text-align: right;\">\n",
       "      <th></th>\n",
       "      <th>open</th>\n",
       "      <th>close</th>\n",
       "      <th>low</th>\n",
       "      <th>high</th>\n",
       "      <th>volume</th>\n",
       "      <th>month</th>\n",
       "      <th>day</th>\n",
       "      <th>perc_co_dif</th>\n",
       "      <th>perc_hl_dif</th>\n",
       "      <th>label6</th>\n",
       "      <th>label4</th>\n",
       "      <th>label5</th>\n",
       "    </tr>\n",
       "    <tr>\n",
       "      <th>label</th>\n",
       "      <th></th>\n",
       "      <th></th>\n",
       "      <th></th>\n",
       "      <th></th>\n",
       "      <th></th>\n",
       "      <th></th>\n",
       "      <th></th>\n",
       "      <th></th>\n",
       "      <th></th>\n",
       "      <th></th>\n",
       "      <th></th>\n",
       "      <th></th>\n",
       "    </tr>\n",
       "  </thead>\n",
       "  <tbody>\n",
       "    <tr>\n",
       "      <th>0</th>\n",
       "      <td>80.959999</td>\n",
       "      <td>80.327647</td>\n",
       "      <td>79.824705</td>\n",
       "      <td>81.830588</td>\n",
       "      <td>2.176055e+08</td>\n",
       "      <td>5.294118</td>\n",
       "      <td>13.705882</td>\n",
       "      <td>-0.241653</td>\n",
       "      <td>3.684787</td>\n",
       "      <td>4.117647</td>\n",
       "      <td>1.294118</td>\n",
       "      <td>2.882353</td>\n",
       "    </tr>\n",
       "    <tr>\n",
       "      <th>1</th>\n",
       "      <td>85.686270</td>\n",
       "      <td>85.904206</td>\n",
       "      <td>84.911667</td>\n",
       "      <td>86.742699</td>\n",
       "      <td>7.602710e+07</td>\n",
       "      <td>6.753968</td>\n",
       "      <td>15.674603</td>\n",
       "      <td>0.093762</td>\n",
       "      <td>3.129382</td>\n",
       "      <td>3.230159</td>\n",
       "      <td>1.841270</td>\n",
       "      <td>2.603175</td>\n",
       "    </tr>\n",
       "    <tr>\n",
       "      <th>2</th>\n",
       "      <td>52.747389</td>\n",
       "      <td>52.754880</td>\n",
       "      <td>52.098039</td>\n",
       "      <td>53.373354</td>\n",
       "      <td>7.984637e+06</td>\n",
       "      <td>6.370177</td>\n",
       "      <td>15.612997</td>\n",
       "      <td>0.011644</td>\n",
       "      <td>2.477030</td>\n",
       "      <td>1.322599</td>\n",
       "      <td>1.908036</td>\n",
       "      <td>2.532057</td>\n",
       "    </tr>\n",
       "    <tr>\n",
       "      <th>3</th>\n",
       "      <td>37.781529</td>\n",
       "      <td>37.746588</td>\n",
       "      <td>37.214682</td>\n",
       "      <td>38.302164</td>\n",
       "      <td>2.939342e+07</td>\n",
       "      <td>5.962353</td>\n",
       "      <td>15.764706</td>\n",
       "      <td>-0.239691</td>\n",
       "      <td>2.904883</td>\n",
       "      <td>1.821176</td>\n",
       "      <td>1.783529</td>\n",
       "      <td>2.762353</td>\n",
       "    </tr>\n",
       "    <tr>\n",
       "      <th>4</th>\n",
       "      <td>79.523441</td>\n",
       "      <td>79.558330</td>\n",
       "      <td>78.782334</td>\n",
       "      <td>80.257003</td>\n",
       "      <td>1.787606e+06</td>\n",
       "      <td>6.608163</td>\n",
       "      <td>15.961945</td>\n",
       "      <td>0.027096</td>\n",
       "      <td>1.891972</td>\n",
       "      <td>0.957023</td>\n",
       "      <td>1.796158</td>\n",
       "      <td>2.266387</td>\n",
       "    </tr>\n",
       "  </tbody>\n",
       "</table>\n",
       "</div>"
      ],
      "text/plain": [
       "            open      close        low       high        volume     month  \\\n",
       "label                                                                       \n",
       "0      80.959999  80.327647  79.824705  81.830588  2.176055e+08  5.294118   \n",
       "1      85.686270  85.904206  84.911667  86.742699  7.602710e+07  6.753968   \n",
       "2      52.747389  52.754880  52.098039  53.373354  7.984637e+06  6.370177   \n",
       "3      37.781529  37.746588  37.214682  38.302164  2.939342e+07  5.962353   \n",
       "4      79.523441  79.558330  78.782334  80.257003  1.787606e+06  6.608163   \n",
       "\n",
       "             day  perc_co_dif  perc_hl_dif    label6    label4    label5  \n",
       "label                                                                     \n",
       "0      13.705882    -0.241653     3.684787  4.117647  1.294118  2.882353  \n",
       "1      15.674603     0.093762     3.129382  3.230159  1.841270  2.603175  \n",
       "2      15.612997     0.011644     2.477030  1.322599  1.908036  2.532057  \n",
       "3      15.764706    -0.239691     2.904883  1.821176  1.783529  2.762353  \n",
       "4      15.961945     0.027096     1.891972  0.957023  1.796158  2.266387  "
      ]
     },
     "execution_count": 31,
     "metadata": {},
     "output_type": "execute_result"
    },
    {
     "data": {
      "application/javascript": [
       "\n",
       "            setTimeout(function() {\n",
       "                var nbb_cell_id = 31;\n",
       "                var nbb_unformatted_code = \"sample.groupby(\\\"label\\\").mean()\";\n",
       "                var nbb_formatted_code = \"sample.groupby(\\\"label\\\").mean()\";\n",
       "                var nbb_cells = Jupyter.notebook.get_cells();\n",
       "                for (var i = 0; i < nbb_cells.length; ++i) {\n",
       "                    if (nbb_cells[i].input_prompt_number == nbb_cell_id) {\n",
       "                        if (nbb_cells[i].get_text() == nbb_unformatted_code) {\n",
       "                             nbb_cells[i].set_text(nbb_formatted_code);\n",
       "                        }\n",
       "                        break;\n",
       "                    }\n",
       "                }\n",
       "            }, 500);\n",
       "            "
      ],
      "text/plain": [
       "<IPython.core.display.Javascript object>"
      ]
     },
     "metadata": {},
     "output_type": "display_data"
    }
   ],
   "source": [
    "sample.groupby(\"label\").mean()"
   ]
  },
  {
   "cell_type": "code",
   "execution_count": 32,
   "metadata": {
    "scrolled": false
   },
   "outputs": [
    {
     "data": {
      "text/html": [
       "<div>\n",
       "<style scoped>\n",
       "    .dataframe tbody tr th:only-of-type {\n",
       "        vertical-align: middle;\n",
       "    }\n",
       "\n",
       "    .dataframe tbody tr th {\n",
       "        vertical-align: top;\n",
       "    }\n",
       "\n",
       "    .dataframe thead th {\n",
       "        text-align: right;\n",
       "    }\n",
       "</style>\n",
       "<table border=\"1\" class=\"dataframe\">\n",
       "  <thead>\n",
       "    <tr style=\"text-align: right;\">\n",
       "      <th></th>\n",
       "      <th>open</th>\n",
       "      <th>close</th>\n",
       "      <th>low</th>\n",
       "      <th>high</th>\n",
       "      <th>volume</th>\n",
       "      <th>month</th>\n",
       "      <th>day</th>\n",
       "      <th>perc_co_dif</th>\n",
       "      <th>perc_hl_dif</th>\n",
       "    </tr>\n",
       "    <tr>\n",
       "      <th>label6</th>\n",
       "      <th></th>\n",
       "      <th></th>\n",
       "      <th></th>\n",
       "      <th></th>\n",
       "      <th></th>\n",
       "      <th></th>\n",
       "      <th></th>\n",
       "      <th></th>\n",
       "      <th></th>\n",
       "    </tr>\n",
       "  </thead>\n",
       "  <tbody>\n",
       "    <tr>\n",
       "      <th>0</th>\n",
       "      <td>56.919097</td>\n",
       "      <td>56.922130</td>\n",
       "      <td>56.446680</td>\n",
       "      <td>57.376300</td>\n",
       "      <td>3.926965e+06</td>\n",
       "      <td>9.569544</td>\n",
       "      <td>16.001573</td>\n",
       "      <td>-0.000732</td>\n",
       "      <td>1.673647</td>\n",
       "    </tr>\n",
       "    <tr>\n",
       "      <th>1</th>\n",
       "      <td>56.104746</td>\n",
       "      <td>56.133656</td>\n",
       "      <td>55.639017</td>\n",
       "      <td>56.572948</td>\n",
       "      <td>4.241125e+06</td>\n",
       "      <td>3.482846</td>\n",
       "      <td>15.647377</td>\n",
       "      <td>0.046068</td>\n",
       "      <td>1.694211</td>\n",
       "    </tr>\n",
       "    <tr>\n",
       "      <th>2</th>\n",
       "      <td>202.088773</td>\n",
       "      <td>202.148677</td>\n",
       "      <td>200.080007</td>\n",
       "      <td>204.072562</td>\n",
       "      <td>3.090420e+06</td>\n",
       "      <td>6.753357</td>\n",
       "      <td>15.764272</td>\n",
       "      <td>0.023115</td>\n",
       "      <td>1.924014</td>\n",
       "    </tr>\n",
       "    <tr>\n",
       "      <th>3</th>\n",
       "      <td>45.070458</td>\n",
       "      <td>46.292398</td>\n",
       "      <td>44.726102</td>\n",
       "      <td>46.639393</td>\n",
       "      <td>8.882122e+06</td>\n",
       "      <td>6.628295</td>\n",
       "      <td>15.088066</td>\n",
       "      <td>2.578319</td>\n",
       "      <td>4.119407</td>\n",
       "    </tr>\n",
       "    <tr>\n",
       "      <th>4</th>\n",
       "      <td>44.222696</td>\n",
       "      <td>43.019017</td>\n",
       "      <td>42.630614</td>\n",
       "      <td>44.536082</td>\n",
       "      <td>1.597395e+07</td>\n",
       "      <td>6.458020</td>\n",
       "      <td>15.134340</td>\n",
       "      <td>-2.660256</td>\n",
       "      <td>4.363371</td>\n",
       "    </tr>\n",
       "    <tr>\n",
       "      <th>5</th>\n",
       "      <td>680.319356</td>\n",
       "      <td>680.200566</td>\n",
       "      <td>673.670741</td>\n",
       "      <td>686.495840</td>\n",
       "      <td>9.523962e+06</td>\n",
       "      <td>6.613284</td>\n",
       "      <td>15.736290</td>\n",
       "      <td>-0.025397</td>\n",
       "      <td>1.927301</td>\n",
       "    </tr>\n",
       "  </tbody>\n",
       "</table>\n",
       "</div>"
      ],
      "text/plain": [
       "              open       close         low        high        volume  \\\n",
       "label6                                                                 \n",
       "0        56.919097   56.922130   56.446680   57.376300  3.926965e+06   \n",
       "1        56.104746   56.133656   55.639017   56.572948  4.241125e+06   \n",
       "2       202.088773  202.148677  200.080007  204.072562  3.090420e+06   \n",
       "3        45.070458   46.292398   44.726102   46.639393  8.882122e+06   \n",
       "4        44.222696   43.019017   42.630614   44.536082  1.597395e+07   \n",
       "5       680.319356  680.200566  673.670741  686.495840  9.523962e+06   \n",
       "\n",
       "           month        day  perc_co_dif  perc_hl_dif  \n",
       "label6                                                 \n",
       "0       9.569544  16.001573    -0.000732     1.673647  \n",
       "1       3.482846  15.647377     0.046068     1.694211  \n",
       "2       6.753357  15.764272     0.023115     1.924014  \n",
       "3       6.628295  15.088066     2.578319     4.119407  \n",
       "4       6.458020  15.134340    -2.660256     4.363371  \n",
       "5       6.613284  15.736290    -0.025397     1.927301  "
      ]
     },
     "execution_count": 32,
     "metadata": {},
     "output_type": "execute_result"
    },
    {
     "data": {
      "application/javascript": [
       "\n",
       "            setTimeout(function() {\n",
       "                var nbb_cell_id = 32;\n",
       "                var nbb_unformatted_code = \"number.groupby(\\\"label6\\\").mean().drop(columns=[\\\"label4\\\", \\\"label5\\\"])\";\n",
       "                var nbb_formatted_code = \"number.groupby(\\\"label6\\\").mean().drop(columns=[\\\"label4\\\", \\\"label5\\\"])\";\n",
       "                var nbb_cells = Jupyter.notebook.get_cells();\n",
       "                for (var i = 0; i < nbb_cells.length; ++i) {\n",
       "                    if (nbb_cells[i].input_prompt_number == nbb_cell_id) {\n",
       "                        if (nbb_cells[i].get_text() == nbb_unformatted_code) {\n",
       "                             nbb_cells[i].set_text(nbb_formatted_code);\n",
       "                        }\n",
       "                        break;\n",
       "                    }\n",
       "                }\n",
       "            }, 500);\n",
       "            "
      ],
      "text/plain": [
       "<IPython.core.display.Javascript object>"
      ]
     },
     "metadata": {},
     "output_type": "display_data"
    }
   ],
   "source": [
    "number.groupby(\"label6\").mean().drop(columns=[\"label4\", \"label5\"])"
   ]
  },
  {
   "cell_type": "code",
   "execution_count": 33,
   "metadata": {
    "scrolled": false
   },
   "outputs": [
    {
     "data": {
      "text/html": [
       "<div>\n",
       "<style scoped>\n",
       "    .dataframe tbody tr th:only-of-type {\n",
       "        vertical-align: middle;\n",
       "    }\n",
       "\n",
       "    .dataframe tbody tr th {\n",
       "        vertical-align: top;\n",
       "    }\n",
       "\n",
       "    .dataframe thead th {\n",
       "        text-align: right;\n",
       "    }\n",
       "</style>\n",
       "<table border=\"1\" class=\"dataframe\">\n",
       "  <thead>\n",
       "    <tr style=\"text-align: right;\">\n",
       "      <th></th>\n",
       "      <th>open</th>\n",
       "      <th>close</th>\n",
       "      <th>low</th>\n",
       "      <th>high</th>\n",
       "      <th>volume</th>\n",
       "      <th>month</th>\n",
       "      <th>day</th>\n",
       "      <th>perc_co_dif</th>\n",
       "      <th>perc_hl_dif</th>\n",
       "    </tr>\n",
       "    <tr>\n",
       "      <th>label4</th>\n",
       "      <th></th>\n",
       "      <th></th>\n",
       "      <th></th>\n",
       "      <th></th>\n",
       "      <th></th>\n",
       "      <th></th>\n",
       "      <th></th>\n",
       "      <th></th>\n",
       "      <th></th>\n",
       "    </tr>\n",
       "  </thead>\n",
       "  <tbody>\n",
       "    <tr>\n",
       "      <th>0</th>\n",
       "      <td>187.248634</td>\n",
       "      <td>187.297009</td>\n",
       "      <td>185.348653</td>\n",
       "      <td>189.116361</td>\n",
       "      <td>3.190184e+06</td>\n",
       "      <td>6.762085</td>\n",
       "      <td>15.829927</td>\n",
       "      <td>0.018641</td>\n",
       "      <td>1.962505</td>\n",
       "    </tr>\n",
       "    <tr>\n",
       "      <th>1</th>\n",
       "      <td>52.792857</td>\n",
       "      <td>52.817390</td>\n",
       "      <td>52.261233</td>\n",
       "      <td>53.321687</td>\n",
       "      <td>5.875029e+06</td>\n",
       "      <td>3.522363</td>\n",
       "      <td>15.558289</td>\n",
       "      <td>0.029565</td>\n",
       "      <td>2.120191</td>\n",
       "    </tr>\n",
       "    <tr>\n",
       "      <th>2</th>\n",
       "      <td>673.877307</td>\n",
       "      <td>673.758788</td>\n",
       "      <td>667.276001</td>\n",
       "      <td>680.011964</td>\n",
       "      <td>9.704860e+06</td>\n",
       "      <td>6.586915</td>\n",
       "      <td>15.708830</td>\n",
       "      <td>-0.025596</td>\n",
       "      <td>1.933679</td>\n",
       "    </tr>\n",
       "    <tr>\n",
       "      <th>3</th>\n",
       "      <td>53.294605</td>\n",
       "      <td>53.309402</td>\n",
       "      <td>52.752245</td>\n",
       "      <td>53.831256</td>\n",
       "      <td>5.257576e+06</td>\n",
       "      <td>9.503177</td>\n",
       "      <td>15.825721</td>\n",
       "      <td>0.013740</td>\n",
       "      <td>2.143915</td>\n",
       "    </tr>\n",
       "  </tbody>\n",
       "</table>\n",
       "</div>"
      ],
      "text/plain": [
       "              open       close         low        high        volume  \\\n",
       "label4                                                                 \n",
       "0       187.248634  187.297009  185.348653  189.116361  3.190184e+06   \n",
       "1        52.792857   52.817390   52.261233   53.321687  5.875029e+06   \n",
       "2       673.877307  673.758788  667.276001  680.011964  9.704860e+06   \n",
       "3        53.294605   53.309402   52.752245   53.831256  5.257576e+06   \n",
       "\n",
       "           month        day  perc_co_dif  perc_hl_dif  \n",
       "label4                                                 \n",
       "0       6.762085  15.829927     0.018641     1.962505  \n",
       "1       3.522363  15.558289     0.029565     2.120191  \n",
       "2       6.586915  15.708830    -0.025596     1.933679  \n",
       "3       9.503177  15.825721     0.013740     2.143915  "
      ]
     },
     "execution_count": 33,
     "metadata": {},
     "output_type": "execute_result"
    },
    {
     "data": {
      "application/javascript": [
       "\n",
       "            setTimeout(function() {\n",
       "                var nbb_cell_id = 33;\n",
       "                var nbb_unformatted_code = \"number.groupby(\\\"label4\\\").mean().drop(columns=[\\\"label6\\\", \\\"label5\\\"])\";\n",
       "                var nbb_formatted_code = \"number.groupby(\\\"label4\\\").mean().drop(columns=[\\\"label6\\\", \\\"label5\\\"])\";\n",
       "                var nbb_cells = Jupyter.notebook.get_cells();\n",
       "                for (var i = 0; i < nbb_cells.length; ++i) {\n",
       "                    if (nbb_cells[i].input_prompt_number == nbb_cell_id) {\n",
       "                        if (nbb_cells[i].get_text() == nbb_unformatted_code) {\n",
       "                             nbb_cells[i].set_text(nbb_formatted_code);\n",
       "                        }\n",
       "                        break;\n",
       "                    }\n",
       "                }\n",
       "            }, 500);\n",
       "            "
      ],
      "text/plain": [
       "<IPython.core.display.Javascript object>"
      ]
     },
     "metadata": {},
     "output_type": "display_data"
    }
   ],
   "source": [
    "number.groupby(\"label4\").mean().drop(columns=[\"label6\", \"label5\"])"
   ]
  },
  {
   "cell_type": "code",
   "execution_count": 34,
   "metadata": {},
   "outputs": [
    {
     "data": {
      "text/html": [
       "<div>\n",
       "<style scoped>\n",
       "    .dataframe tbody tr th:only-of-type {\n",
       "        vertical-align: middle;\n",
       "    }\n",
       "\n",
       "    .dataframe tbody tr th {\n",
       "        vertical-align: top;\n",
       "    }\n",
       "\n",
       "    .dataframe thead th {\n",
       "        text-align: right;\n",
       "    }\n",
       "</style>\n",
       "<table border=\"1\" class=\"dataframe\">\n",
       "  <thead>\n",
       "    <tr style=\"text-align: right;\">\n",
       "      <th></th>\n",
       "      <th>open</th>\n",
       "      <th>close</th>\n",
       "      <th>low</th>\n",
       "      <th>high</th>\n",
       "      <th>volume</th>\n",
       "      <th>month</th>\n",
       "      <th>day</th>\n",
       "      <th>perc_co_dif</th>\n",
       "      <th>perc_hl_dif</th>\n",
       "    </tr>\n",
       "    <tr>\n",
       "      <th>label5</th>\n",
       "      <th></th>\n",
       "      <th></th>\n",
       "      <th></th>\n",
       "      <th></th>\n",
       "      <th></th>\n",
       "      <th></th>\n",
       "      <th></th>\n",
       "      <th></th>\n",
       "      <th></th>\n",
       "    </tr>\n",
       "  </thead>\n",
       "  <tbody>\n",
       "    <tr>\n",
       "      <th>0</th>\n",
       "      <td>196.477600</td>\n",
       "      <td>196.589565</td>\n",
       "      <td>194.529299</td>\n",
       "      <td>198.459182</td>\n",
       "      <td>2.964228e+06</td>\n",
       "      <td>6.764130</td>\n",
       "      <td>15.784563</td>\n",
       "      <td>0.054312</td>\n",
       "      <td>1.953655</td>\n",
       "    </tr>\n",
       "    <tr>\n",
       "      <th>1</th>\n",
       "      <td>55.391958</td>\n",
       "      <td>55.505033</td>\n",
       "      <td>54.935434</td>\n",
       "      <td>55.943933</td>\n",
       "      <td>4.159932e+06</td>\n",
       "      <td>9.534357</td>\n",
       "      <td>15.902075</td>\n",
       "      <td>0.234272</td>\n",
       "      <td>1.886657</td>\n",
       "    </tr>\n",
       "    <tr>\n",
       "      <th>2</th>\n",
       "      <td>678.102530</td>\n",
       "      <td>677.986649</td>\n",
       "      <td>671.474123</td>\n",
       "      <td>684.264609</td>\n",
       "      <td>9.618027e+06</td>\n",
       "      <td>6.600779</td>\n",
       "      <td>15.729270</td>\n",
       "      <td>-0.024780</td>\n",
       "      <td>1.928541</td>\n",
       "    </tr>\n",
       "    <tr>\n",
       "      <th>3</th>\n",
       "      <td>42.431690</td>\n",
       "      <td>41.431078</td>\n",
       "      <td>40.930042</td>\n",
       "      <td>42.864725</td>\n",
       "      <td>1.792963e+07</td>\n",
       "      <td>6.474245</td>\n",
       "      <td>15.194801</td>\n",
       "      <td>-2.178208</td>\n",
       "      <td>4.593350</td>\n",
       "    </tr>\n",
       "    <tr>\n",
       "      <th>4</th>\n",
       "      <td>54.825758</td>\n",
       "      <td>54.948132</td>\n",
       "      <td>54.375242</td>\n",
       "      <td>55.375501</td>\n",
       "      <td>4.451061e+06</td>\n",
       "      <td>3.500410</td>\n",
       "      <td>15.592959</td>\n",
       "      <td>0.248085</td>\n",
       "      <td>1.876514</td>\n",
       "    </tr>\n",
       "  </tbody>\n",
       "</table>\n",
       "</div>"
      ],
      "text/plain": [
       "              open       close         low        high        volume  \\\n",
       "label5                                                                 \n",
       "0       196.477600  196.589565  194.529299  198.459182  2.964228e+06   \n",
       "1        55.391958   55.505033   54.935434   55.943933  4.159932e+06   \n",
       "2       678.102530  677.986649  671.474123  684.264609  9.618027e+06   \n",
       "3        42.431690   41.431078   40.930042   42.864725  1.792963e+07   \n",
       "4        54.825758   54.948132   54.375242   55.375501  4.451061e+06   \n",
       "\n",
       "           month        day  perc_co_dif  perc_hl_dif  \n",
       "label5                                                 \n",
       "0       6.764130  15.784563     0.054312     1.953655  \n",
       "1       9.534357  15.902075     0.234272     1.886657  \n",
       "2       6.600779  15.729270    -0.024780     1.928541  \n",
       "3       6.474245  15.194801    -2.178208     4.593350  \n",
       "4       3.500410  15.592959     0.248085     1.876514  "
      ]
     },
     "execution_count": 34,
     "metadata": {},
     "output_type": "execute_result"
    },
    {
     "data": {
      "application/javascript": [
       "\n",
       "            setTimeout(function() {\n",
       "                var nbb_cell_id = 34;\n",
       "                var nbb_unformatted_code = \"number.groupby(\\\"label5\\\").mean().drop(columns=[\\\"label6\\\", \\\"label4\\\"])\";\n",
       "                var nbb_formatted_code = \"number.groupby(\\\"label5\\\").mean().drop(columns=[\\\"label6\\\", \\\"label4\\\"])\";\n",
       "                var nbb_cells = Jupyter.notebook.get_cells();\n",
       "                for (var i = 0; i < nbb_cells.length; ++i) {\n",
       "                    if (nbb_cells[i].input_prompt_number == nbb_cell_id) {\n",
       "                        if (nbb_cells[i].get_text() == nbb_unformatted_code) {\n",
       "                             nbb_cells[i].set_text(nbb_formatted_code);\n",
       "                        }\n",
       "                        break;\n",
       "                    }\n",
       "                }\n",
       "            }, 500);\n",
       "            "
      ],
      "text/plain": [
       "<IPython.core.display.Javascript object>"
      ]
     },
     "metadata": {},
     "output_type": "display_data"
    }
   ],
   "source": [
    "number.groupby(\"label5\").mean().drop(columns=[\"label6\", \"label4\"])"
   ]
  },
  {
   "cell_type": "markdown",
   "metadata": {},
   "source": [
    "# Now let's check dimension reduction techniques to see if they are helpful at all for better distinguishing clusters"
   ]
  },
  {
   "cell_type": "code",
   "execution_count": 35,
   "metadata": {},
   "outputs": [
    {
     "data": {
      "application/javascript": [
       "\n",
       "            setTimeout(function() {\n",
       "                var nbb_cell_id = 35;\n",
       "                var nbb_unformatted_code = \"pca = PCA(n_components=6)\\npca_df_full = pca.fit_transform(scaled)\\nloadings = pca_loadings(pca)\\nloadings = pd.DataFrame(loadings)\\nloadings.index = columns\\nloadings.columns = [f\\\"component_{i}\\\" for i in range(loadings.shape[1])]\";\n",
       "                var nbb_formatted_code = \"pca = PCA(n_components=6)\\npca_df_full = pca.fit_transform(scaled)\\nloadings = pca_loadings(pca)\\nloadings = pd.DataFrame(loadings)\\nloadings.index = columns\\nloadings.columns = [f\\\"component_{i}\\\" for i in range(loadings.shape[1])]\";\n",
       "                var nbb_cells = Jupyter.notebook.get_cells();\n",
       "                for (var i = 0; i < nbb_cells.length; ++i) {\n",
       "                    if (nbb_cells[i].input_prompt_number == nbb_cell_id) {\n",
       "                        if (nbb_cells[i].get_text() == nbb_unformatted_code) {\n",
       "                             nbb_cells[i].set_text(nbb_formatted_code);\n",
       "                        }\n",
       "                        break;\n",
       "                    }\n",
       "                }\n",
       "            }, 500);\n",
       "            "
      ],
      "text/plain": [
       "<IPython.core.display.Javascript object>"
      ]
     },
     "metadata": {},
     "output_type": "display_data"
    }
   ],
   "source": [
    "pca = PCA(n_components=6)\n",
    "pca_df_full = pca.fit_transform(scaled)\n",
    "loadings = pca_loadings(pca)\n",
    "loadings = pd.DataFrame(loadings)\n",
    "loadings.index = columns\n",
    "loadings.columns = [f\"component_{i}\" for i in range(loadings.shape[1])]"
   ]
  },
  {
   "cell_type": "code",
   "execution_count": 36,
   "metadata": {},
   "outputs": [
    {
     "data": {
      "application/javascript": [
       "\n",
       "            setTimeout(function() {\n",
       "                var nbb_cell_id = 36;\n",
       "                var nbb_unformatted_code = \"pca5 = PCA(n_components=5)\\npca5_df = pca5.fit_transform(scaled)\\nloadings5 = pca_loadings(pca5)\\nloadings5 = pd.DataFrame(loadings5)\\nloadings5.index = columns\\nloadings5.columns = [f\\\"component_{i}\\\" for i in range(loadings5.shape[1])]\";\n",
       "                var nbb_formatted_code = \"pca5 = PCA(n_components=5)\\npca5_df = pca5.fit_transform(scaled)\\nloadings5 = pca_loadings(pca5)\\nloadings5 = pd.DataFrame(loadings5)\\nloadings5.index = columns\\nloadings5.columns = [f\\\"component_{i}\\\" for i in range(loadings5.shape[1])]\";\n",
       "                var nbb_cells = Jupyter.notebook.get_cells();\n",
       "                for (var i = 0; i < nbb_cells.length; ++i) {\n",
       "                    if (nbb_cells[i].input_prompt_number == nbb_cell_id) {\n",
       "                        if (nbb_cells[i].get_text() == nbb_unformatted_code) {\n",
       "                             nbb_cells[i].set_text(nbb_formatted_code);\n",
       "                        }\n",
       "                        break;\n",
       "                    }\n",
       "                }\n",
       "            }, 500);\n",
       "            "
      ],
      "text/plain": [
       "<IPython.core.display.Javascript object>"
      ]
     },
     "metadata": {},
     "output_type": "display_data"
    }
   ],
   "source": [
    "pca5 = PCA(n_components=5)\n",
    "pca5_df = pca5.fit_transform(scaled)\n",
    "loadings5 = pca_loadings(pca5)\n",
    "loadings5 = pd.DataFrame(loadings5)\n",
    "loadings5.index = columns\n",
    "loadings5.columns = [f\"component_{i}\" for i in range(loadings5.shape[1])]"
   ]
  },
  {
   "cell_type": "code",
   "execution_count": 37,
   "metadata": {
    "scrolled": false
   },
   "outputs": [
    {
     "data": {
      "text/html": [
       "<div>\n",
       "<style scoped>\n",
       "    .dataframe tbody tr th:only-of-type {\n",
       "        vertical-align: middle;\n",
       "    }\n",
       "\n",
       "    .dataframe tbody tr th {\n",
       "        vertical-align: top;\n",
       "    }\n",
       "\n",
       "    .dataframe thead th {\n",
       "        text-align: right;\n",
       "    }\n",
       "</style>\n",
       "<table border=\"1\" class=\"dataframe\">\n",
       "  <thead>\n",
       "    <tr style=\"text-align: right;\">\n",
       "      <th></th>\n",
       "      <th>component_0</th>\n",
       "      <th>component_1</th>\n",
       "      <th>component_2</th>\n",
       "      <th>component_3</th>\n",
       "      <th>component_4</th>\n",
       "      <th>component_5</th>\n",
       "    </tr>\n",
       "  </thead>\n",
       "  <tbody>\n",
       "    <tr>\n",
       "      <th>open</th>\n",
       "      <td>0.999287</td>\n",
       "      <td>0.036651</td>\n",
       "      <td>-0.002660</td>\n",
       "      <td>0.003512</td>\n",
       "      <td>0.002307</td>\n",
       "      <td>-0.002479</td>\n",
       "    </tr>\n",
       "    <tr>\n",
       "      <th>close</th>\n",
       "      <td>0.999312</td>\n",
       "      <td>0.033359</td>\n",
       "      <td>-0.009507</td>\n",
       "      <td>0.003194</td>\n",
       "      <td>0.009760</td>\n",
       "      <td>-0.004339</td>\n",
       "    </tr>\n",
       "    <tr>\n",
       "      <th>low</th>\n",
       "      <td>0.999446</td>\n",
       "      <td>0.031437</td>\n",
       "      <td>-0.005999</td>\n",
       "      <td>0.003590</td>\n",
       "      <td>0.005778</td>\n",
       "      <td>-0.000170</td>\n",
       "    </tr>\n",
       "    <tr>\n",
       "      <th>high</th>\n",
       "      <td>0.999191</td>\n",
       "      <td>0.038100</td>\n",
       "      <td>-0.006177</td>\n",
       "      <td>0.003176</td>\n",
       "      <td>0.006544</td>\n",
       "      <td>-0.006411</td>\n",
       "    </tr>\n",
       "    <tr>\n",
       "      <th>volume</th>\n",
       "      <td>-0.085697</td>\n",
       "      <td>0.710546</td>\n",
       "      <td>-0.111599</td>\n",
       "      <td>0.094846</td>\n",
       "      <td>0.336768</td>\n",
       "      <td>0.594069</td>\n",
       "    </tr>\n",
       "    <tr>\n",
       "      <th>month</th>\n",
       "      <td>0.022308</td>\n",
       "      <td>-0.095972</td>\n",
       "      <td>0.614592</td>\n",
       "      <td>-0.611189</td>\n",
       "      <td>0.488546</td>\n",
       "      <td>0.018451</td>\n",
       "    </tr>\n",
       "    <tr>\n",
       "      <th>day</th>\n",
       "      <td>0.004262</td>\n",
       "      <td>-0.123489</td>\n",
       "      <td>0.471681</td>\n",
       "      <td>0.785310</td>\n",
       "      <td>0.367226</td>\n",
       "      <td>-0.103359</td>\n",
       "    </tr>\n",
       "    <tr>\n",
       "      <th>perc_co_dif</th>\n",
       "      <td>0.001552</td>\n",
       "      <td>-0.312708</td>\n",
       "      <td>-0.631702</td>\n",
       "      <td>-0.025123</td>\n",
       "      <td>0.689712</td>\n",
       "      <td>-0.163803</td>\n",
       "    </tr>\n",
       "    <tr>\n",
       "      <th>perc_hl_dif</th>\n",
       "      <td>-0.100323</td>\n",
       "      <td>0.751621</td>\n",
       "      <td>-0.000229</td>\n",
       "      <td>-0.049756</td>\n",
       "      <td>0.090183</td>\n",
       "      <td>-0.643734</td>\n",
       "    </tr>\n",
       "  </tbody>\n",
       "</table>\n",
       "</div>"
      ],
      "text/plain": [
       "             component_0  component_1  component_2  component_3  component_4  \\\n",
       "open            0.999287     0.036651    -0.002660     0.003512     0.002307   \n",
       "close           0.999312     0.033359    -0.009507     0.003194     0.009760   \n",
       "low             0.999446     0.031437    -0.005999     0.003590     0.005778   \n",
       "high            0.999191     0.038100    -0.006177     0.003176     0.006544   \n",
       "volume         -0.085697     0.710546    -0.111599     0.094846     0.336768   \n",
       "month           0.022308    -0.095972     0.614592    -0.611189     0.488546   \n",
       "day             0.004262    -0.123489     0.471681     0.785310     0.367226   \n",
       "perc_co_dif     0.001552    -0.312708    -0.631702    -0.025123     0.689712   \n",
       "perc_hl_dif    -0.100323     0.751621    -0.000229    -0.049756     0.090183   \n",
       "\n",
       "             component_5  \n",
       "open           -0.002479  \n",
       "close          -0.004339  \n",
       "low            -0.000170  \n",
       "high           -0.006411  \n",
       "volume          0.594069  \n",
       "month           0.018451  \n",
       "day            -0.103359  \n",
       "perc_co_dif    -0.163803  \n",
       "perc_hl_dif    -0.643734  "
      ]
     },
     "execution_count": 37,
     "metadata": {},
     "output_type": "execute_result"
    },
    {
     "data": {
      "application/javascript": [
       "\n",
       "            setTimeout(function() {\n",
       "                var nbb_cell_id = 37;\n",
       "                var nbb_unformatted_code = \"# Interesting. Stocks seem to be more expensive at vertain parts of the year. The month can also cheapen a stock\\nloadings\";\n",
       "                var nbb_formatted_code = \"# Interesting. Stocks seem to be more expensive at vertain parts of the year. The month can also cheapen a stock\\nloadings\";\n",
       "                var nbb_cells = Jupyter.notebook.get_cells();\n",
       "                for (var i = 0; i < nbb_cells.length; ++i) {\n",
       "                    if (nbb_cells[i].input_prompt_number == nbb_cell_id) {\n",
       "                        if (nbb_cells[i].get_text() == nbb_unformatted_code) {\n",
       "                             nbb_cells[i].set_text(nbb_formatted_code);\n",
       "                        }\n",
       "                        break;\n",
       "                    }\n",
       "                }\n",
       "            }, 500);\n",
       "            "
      ],
      "text/plain": [
       "<IPython.core.display.Javascript object>"
      ]
     },
     "metadata": {},
     "output_type": "display_data"
    }
   ],
   "source": [
    "# Interesting. Stocks seem to be more expensive at vertain parts of the year. The month can also cheapen a stock\n",
    "loadings"
   ]
  },
  {
   "cell_type": "code",
   "execution_count": 38,
   "metadata": {},
   "outputs": [
    {
     "data": {
      "text/html": [
       "<div>\n",
       "<style scoped>\n",
       "    .dataframe tbody tr th:only-of-type {\n",
       "        vertical-align: middle;\n",
       "    }\n",
       "\n",
       "    .dataframe tbody tr th {\n",
       "        vertical-align: top;\n",
       "    }\n",
       "\n",
       "    .dataframe thead th {\n",
       "        text-align: right;\n",
       "    }\n",
       "</style>\n",
       "<table border=\"1\" class=\"dataframe\">\n",
       "  <thead>\n",
       "    <tr style=\"text-align: right;\">\n",
       "      <th></th>\n",
       "      <th>component_0</th>\n",
       "      <th>component_1</th>\n",
       "      <th>component_2</th>\n",
       "      <th>component_3</th>\n",
       "      <th>component_4</th>\n",
       "    </tr>\n",
       "  </thead>\n",
       "  <tbody>\n",
       "    <tr>\n",
       "      <th>open</th>\n",
       "      <td>0.999287</td>\n",
       "      <td>0.036651</td>\n",
       "      <td>-0.002660</td>\n",
       "      <td>0.003512</td>\n",
       "      <td>0.002307</td>\n",
       "    </tr>\n",
       "    <tr>\n",
       "      <th>close</th>\n",
       "      <td>0.999312</td>\n",
       "      <td>0.033359</td>\n",
       "      <td>-0.009507</td>\n",
       "      <td>0.003194</td>\n",
       "      <td>0.009760</td>\n",
       "    </tr>\n",
       "    <tr>\n",
       "      <th>low</th>\n",
       "      <td>0.999446</td>\n",
       "      <td>0.031437</td>\n",
       "      <td>-0.005999</td>\n",
       "      <td>0.003590</td>\n",
       "      <td>0.005778</td>\n",
       "    </tr>\n",
       "    <tr>\n",
       "      <th>high</th>\n",
       "      <td>0.999191</td>\n",
       "      <td>0.038100</td>\n",
       "      <td>-0.006177</td>\n",
       "      <td>0.003176</td>\n",
       "      <td>0.006544</td>\n",
       "    </tr>\n",
       "    <tr>\n",
       "      <th>volume</th>\n",
       "      <td>-0.085697</td>\n",
       "      <td>0.710546</td>\n",
       "      <td>-0.111599</td>\n",
       "      <td>0.094846</td>\n",
       "      <td>0.336768</td>\n",
       "    </tr>\n",
       "    <tr>\n",
       "      <th>month</th>\n",
       "      <td>0.022308</td>\n",
       "      <td>-0.095972</td>\n",
       "      <td>0.614592</td>\n",
       "      <td>-0.611189</td>\n",
       "      <td>0.488546</td>\n",
       "    </tr>\n",
       "    <tr>\n",
       "      <th>day</th>\n",
       "      <td>0.004262</td>\n",
       "      <td>-0.123489</td>\n",
       "      <td>0.471681</td>\n",
       "      <td>0.785310</td>\n",
       "      <td>0.367226</td>\n",
       "    </tr>\n",
       "    <tr>\n",
       "      <th>perc_co_dif</th>\n",
       "      <td>0.001552</td>\n",
       "      <td>-0.312708</td>\n",
       "      <td>-0.631702</td>\n",
       "      <td>-0.025123</td>\n",
       "      <td>0.689712</td>\n",
       "    </tr>\n",
       "    <tr>\n",
       "      <th>perc_hl_dif</th>\n",
       "      <td>-0.100323</td>\n",
       "      <td>0.751621</td>\n",
       "      <td>-0.000229</td>\n",
       "      <td>-0.049756</td>\n",
       "      <td>0.090183</td>\n",
       "    </tr>\n",
       "  </tbody>\n",
       "</table>\n",
       "</div>"
      ],
      "text/plain": [
       "             component_0  component_1  component_2  component_3  component_4\n",
       "open            0.999287     0.036651    -0.002660     0.003512     0.002307\n",
       "close           0.999312     0.033359    -0.009507     0.003194     0.009760\n",
       "low             0.999446     0.031437    -0.005999     0.003590     0.005778\n",
       "high            0.999191     0.038100    -0.006177     0.003176     0.006544\n",
       "volume         -0.085697     0.710546    -0.111599     0.094846     0.336768\n",
       "month           0.022308    -0.095972     0.614592    -0.611189     0.488546\n",
       "day             0.004262    -0.123489     0.471681     0.785310     0.367226\n",
       "perc_co_dif     0.001552    -0.312708    -0.631702    -0.025123     0.689712\n",
       "perc_hl_dif    -0.100323     0.751621    -0.000229    -0.049756     0.090183"
      ]
     },
     "execution_count": 38,
     "metadata": {},
     "output_type": "execute_result"
    },
    {
     "data": {
      "application/javascript": [
       "\n",
       "            setTimeout(function() {\n",
       "                var nbb_cell_id = 38;\n",
       "                var nbb_unformatted_code = \"loadings5\";\n",
       "                var nbb_formatted_code = \"loadings5\";\n",
       "                var nbb_cells = Jupyter.notebook.get_cells();\n",
       "                for (var i = 0; i < nbb_cells.length; ++i) {\n",
       "                    if (nbb_cells[i].input_prompt_number == nbb_cell_id) {\n",
       "                        if (nbb_cells[i].get_text() == nbb_unformatted_code) {\n",
       "                             nbb_cells[i].set_text(nbb_formatted_code);\n",
       "                        }\n",
       "                        break;\n",
       "                    }\n",
       "                }\n",
       "            }, 500);\n",
       "            "
      ],
      "text/plain": [
       "<IPython.core.display.Javascript object>"
      ]
     },
     "metadata": {},
     "output_type": "display_data"
    }
   ],
   "source": [
    "loadings5"
   ]
  },
  {
   "cell_type": "markdown",
   "metadata": {},
   "source": [
    "# Let's check on UMAP to see if it does anything PCA doesn't"
   ]
  },
  {
   "cell_type": "code",
   "execution_count": 39,
   "metadata": {},
   "outputs": [
    {
     "name": "stderr",
     "output_type": "stream",
     "text": [
      "C:\\Users\\jonat\\anaconda3\\lib\\site-packages\\sklearn\\manifold\\_spectral_embedding.py:236: UserWarning: Graph is not fully connected, spectral embedding may not work as expected.\n",
      "  warnings.warn(\"Graph is not fully connected, spectral embedding\"\n"
     ]
    },
    {
     "data": {
      "application/javascript": [
       "\n",
       "            setTimeout(function() {\n",
       "                var nbb_cell_id = 39;\n",
       "                var nbb_unformatted_code = \"# Let's see if another method would be better for dimensionality reduction. UMAP TIME!\\n# if i put in all of scaled, it can't deal with it. Time to random sample\\numap = UMAP(n_neighbors=6, min_dist=0.3, metric=\\\"euclidean\\\")\\numap_fit = umap.fit_transform(sample)\";\n",
       "                var nbb_formatted_code = \"# Let's see if another method would be better for dimensionality reduction. UMAP TIME!\\n# if i put in all of scaled, it can't deal with it. Time to random sample\\numap = UMAP(n_neighbors=6, min_dist=0.3, metric=\\\"euclidean\\\")\\numap_fit = umap.fit_transform(sample)\";\n",
       "                var nbb_cells = Jupyter.notebook.get_cells();\n",
       "                for (var i = 0; i < nbb_cells.length; ++i) {\n",
       "                    if (nbb_cells[i].input_prompt_number == nbb_cell_id) {\n",
       "                        if (nbb_cells[i].get_text() == nbb_unformatted_code) {\n",
       "                             nbb_cells[i].set_text(nbb_formatted_code);\n",
       "                        }\n",
       "                        break;\n",
       "                    }\n",
       "                }\n",
       "            }, 500);\n",
       "            "
      ],
      "text/plain": [
       "<IPython.core.display.Javascript object>"
      ]
     },
     "metadata": {},
     "output_type": "display_data"
    }
   ],
   "source": [
    "# Let's see if another method would be better for dimensionality reduction. UMAP TIME!\n",
    "# if i put in all of scaled, it can't deal with it. Time to random sample\n",
    "umap = UMAP(n_neighbors=6, min_dist=0.3, metric=\"euclidean\")\n",
    "umap_fit = umap.fit_transform(sample)"
   ]
  },
  {
   "cell_type": "code",
   "execution_count": 40,
   "metadata": {
    "scrolled": true
   },
   "outputs": [
    {
     "data": {
      "text/plain": [
       "array([[-0.32391337, 16.230753  ],\n",
       "       [10.692502  ,  1.8233569 ],\n",
       "       [ 1.378688  , -8.496283  ],\n",
       "       ...,\n",
       "       [ 8.047789  ,  9.316154  ],\n",
       "       [ 9.603347  ,  4.324859  ],\n",
       "       [-7.0104213 ,  5.8141484 ]], dtype=float32)"
      ]
     },
     "execution_count": 40,
     "metadata": {},
     "output_type": "execute_result"
    },
    {
     "data": {
      "application/javascript": [
       "\n",
       "            setTimeout(function() {\n",
       "                var nbb_cell_id = 40;\n",
       "                var nbb_unformatted_code = \"umap_fit\";\n",
       "                var nbb_formatted_code = \"umap_fit\";\n",
       "                var nbb_cells = Jupyter.notebook.get_cells();\n",
       "                for (var i = 0; i < nbb_cells.length; ++i) {\n",
       "                    if (nbb_cells[i].input_prompt_number == nbb_cell_id) {\n",
       "                        if (nbb_cells[i].get_text() == nbb_unformatted_code) {\n",
       "                             nbb_cells[i].set_text(nbb_formatted_code);\n",
       "                        }\n",
       "                        break;\n",
       "                    }\n",
       "                }\n",
       "            }, 500);\n",
       "            "
      ],
      "text/plain": [
       "<IPython.core.display.Javascript object>"
      ]
     },
     "metadata": {},
     "output_type": "display_data"
    }
   ],
   "source": [
    "umap_fit"
   ]
  },
  {
   "cell_type": "code",
   "execution_count": 41,
   "metadata": {},
   "outputs": [
    {
     "data": {
      "application/javascript": [
       "\n",
       "            setTimeout(function() {\n",
       "                var nbb_cell_id = 41;\n",
       "                var nbb_unformatted_code = \"umap_df = pd.DataFrame(umap_fit, index=sample.index)\";\n",
       "                var nbb_formatted_code = \"umap_df = pd.DataFrame(umap_fit, index=sample.index)\";\n",
       "                var nbb_cells = Jupyter.notebook.get_cells();\n",
       "                for (var i = 0; i < nbb_cells.length; ++i) {\n",
       "                    if (nbb_cells[i].input_prompt_number == nbb_cell_id) {\n",
       "                        if (nbb_cells[i].get_text() == nbb_unformatted_code) {\n",
       "                             nbb_cells[i].set_text(nbb_formatted_code);\n",
       "                        }\n",
       "                        break;\n",
       "                    }\n",
       "                }\n",
       "            }, 500);\n",
       "            "
      ],
      "text/plain": [
       "<IPython.core.display.Javascript object>"
      ]
     },
     "metadata": {},
     "output_type": "display_data"
    }
   ],
   "source": [
    "umap_df = pd.DataFrame(umap_fit, index=sample.index)"
   ]
  },
  {
   "cell_type": "code",
   "execution_count": 42,
   "metadata": {
    "scrolled": true
   },
   "outputs": [
    {
     "name": "stderr",
     "output_type": "stream",
     "text": [
      "C:\\Users\\jonat\\anaconda3\\lib\\site-packages\\sklearn\\manifold\\_spectral_embedding.py:236: UserWarning: Graph is not fully connected, spectral embedding may not work as expected.\n",
      "  warnings.warn(\"Graph is not fully connected, spectral embedding\"\n"
     ]
    },
    {
     "data": {
      "application/javascript": [
       "\n",
       "            setTimeout(function() {\n",
       "                var nbb_cell_id = 42;\n",
       "                var nbb_unformatted_code = \"umap = UMAP(n_neighbors=6, min_dist=0.6, metric=\\\"euclidean\\\")\\numap_fit = umap.fit_transform(sample)\\numap_df = pd.DataFrame(umap_fit, index=sample.index)\\n\\n\\n# Due to github data restraints, this like is being commented out. To see the plot, uncomment the below line.\\n# px.scatter(umap_df, x=umap_fit[:, 0], y=umap_fit[:, 1])\";\n",
       "                var nbb_formatted_code = \"umap = UMAP(n_neighbors=6, min_dist=0.6, metric=\\\"euclidean\\\")\\numap_fit = umap.fit_transform(sample)\\numap_df = pd.DataFrame(umap_fit, index=sample.index)\\n\\n\\n# Due to github data restraints, this like is being commented out. To see the plot, uncomment the below line.\\n# px.scatter(umap_df, x=umap_fit[:, 0], y=umap_fit[:, 1])\";\n",
       "                var nbb_cells = Jupyter.notebook.get_cells();\n",
       "                for (var i = 0; i < nbb_cells.length; ++i) {\n",
       "                    if (nbb_cells[i].input_prompt_number == nbb_cell_id) {\n",
       "                        if (nbb_cells[i].get_text() == nbb_unformatted_code) {\n",
       "                             nbb_cells[i].set_text(nbb_formatted_code);\n",
       "                        }\n",
       "                        break;\n",
       "                    }\n",
       "                }\n",
       "            }, 500);\n",
       "            "
      ],
      "text/plain": [
       "<IPython.core.display.Javascript object>"
      ]
     },
     "metadata": {},
     "output_type": "display_data"
    }
   ],
   "source": [
    "umap = UMAP(n_neighbors=6, min_dist=0.6, metric=\"euclidean\")\n",
    "umap_fit = umap.fit_transform(sample)\n",
    "umap_df = pd.DataFrame(umap_fit, index=sample.index)\n",
    "\n",
    "\n",
    "# Due to github data restraints, this like is being commented out. To see the plot, uncomment the below line.\n",
    "# px.scatter(umap_df, x=umap_fit[:, 0], y=umap_fit[:, 1])"
   ]
  },
  {
   "cell_type": "code",
   "execution_count": 43,
   "metadata": {},
   "outputs": [
    {
     "name": "stderr",
     "output_type": "stream",
     "text": [
      "C:\\Users\\jonat\\anaconda3\\lib\\site-packages\\sklearn\\manifold\\_spectral_embedding.py:236: UserWarning: Graph is not fully connected, spectral embedding may not work as expected.\n",
      "  warnings.warn(\"Graph is not fully connected, spectral embedding\"\n"
     ]
    },
    {
     "data": {
      "application/javascript": [
       "\n",
       "            setTimeout(function() {\n",
       "                var nbb_cell_id = 43;\n",
       "                var nbb_unformatted_code = \"umap = UMAP(n_neighbors=5, min_dist=0.6, metric=\\\"euclidean\\\")\\nfeeling_like_will = umap.fit_transform(sample)\\numap_df = pd.DataFrame(feeling_like_will, index=sample.index)\\n\\n\\n# Due to github data restraints, this like is being commented out. To see the plot, uncomment the below line.\\n# px.scatter(umap_df, x=feeling_like_will[:, 0], y=feeling_like_will[:, 1])\";\n",
       "                var nbb_formatted_code = \"umap = UMAP(n_neighbors=5, min_dist=0.6, metric=\\\"euclidean\\\")\\nfeeling_like_will = umap.fit_transform(sample)\\numap_df = pd.DataFrame(feeling_like_will, index=sample.index)\\n\\n\\n# Due to github data restraints, this like is being commented out. To see the plot, uncomment the below line.\\n# px.scatter(umap_df, x=feeling_like_will[:, 0], y=feeling_like_will[:, 1])\";\n",
       "                var nbb_cells = Jupyter.notebook.get_cells();\n",
       "                for (var i = 0; i < nbb_cells.length; ++i) {\n",
       "                    if (nbb_cells[i].input_prompt_number == nbb_cell_id) {\n",
       "                        if (nbb_cells[i].get_text() == nbb_unformatted_code) {\n",
       "                             nbb_cells[i].set_text(nbb_formatted_code);\n",
       "                        }\n",
       "                        break;\n",
       "                    }\n",
       "                }\n",
       "            }, 500);\n",
       "            "
      ],
      "text/plain": [
       "<IPython.core.display.Javascript object>"
      ]
     },
     "metadata": {},
     "output_type": "display_data"
    }
   ],
   "source": [
    "umap = UMAP(n_neighbors=5, min_dist=0.6, metric=\"euclidean\")\n",
    "feeling_like_will = umap.fit_transform(sample)\n",
    "umap_df = pd.DataFrame(feeling_like_will, index=sample.index)\n",
    "\n",
    "\n",
    "# Due to github data restraints, this like is being commented out. To see the plot, uncomment the below line.\n",
    "# px.scatter(umap_df, x=feeling_like_will[:, 0], y=feeling_like_will[:, 1])"
   ]
  },
  {
   "cell_type": "markdown",
   "metadata": {},
   "source": [
    "# These don't really look like they add much information so I'm just going to look at the clustered data. It seems like 6 neighbors has better information for stock traders as I will explain below. As a reminder, here is the mean of that group and the scatterplot"
   ]
  },
  {
   "cell_type": "code",
   "execution_count": 44,
   "metadata": {},
   "outputs": [
    {
     "data": {
      "application/javascript": [
       "\n",
       "            setTimeout(function() {\n",
       "                var nbb_cell_id = 44;\n",
       "                var nbb_unformatted_code = \"number = number.drop(columns=[\\\"label4\\\", \\\"label5\\\"])\";\n",
       "                var nbb_formatted_code = \"number = number.drop(columns=[\\\"label4\\\", \\\"label5\\\"])\";\n",
       "                var nbb_cells = Jupyter.notebook.get_cells();\n",
       "                for (var i = 0; i < nbb_cells.length; ++i) {\n",
       "                    if (nbb_cells[i].input_prompt_number == nbb_cell_id) {\n",
       "                        if (nbb_cells[i].get_text() == nbb_unformatted_code) {\n",
       "                             nbb_cells[i].set_text(nbb_formatted_code);\n",
       "                        }\n",
       "                        break;\n",
       "                    }\n",
       "                }\n",
       "            }, 500);\n",
       "            "
      ],
      "text/plain": [
       "<IPython.core.display.Javascript object>"
      ]
     },
     "metadata": {},
     "output_type": "display_data"
    }
   ],
   "source": [
    "number = number.drop(columns=[\"label4\", \"label5\"])"
   ]
  },
  {
   "cell_type": "code",
   "execution_count": 45,
   "metadata": {
    "scrolled": true
   },
   "outputs": [
    {
     "data": {
      "text/plain": [
       "0    313493\n",
       "1    312251\n",
       "3     67949\n",
       "4     65126\n",
       "2     54881\n",
       "5      9154\n",
       "Name: label6, dtype: int64"
      ]
     },
     "execution_count": 45,
     "metadata": {},
     "output_type": "execute_result"
    },
    {
     "data": {
      "application/javascript": [
       "\n",
       "            setTimeout(function() {\n",
       "                var nbb_cell_id = 45;\n",
       "                var nbb_unformatted_code = \"number[\\\"label6\\\"].value_counts()\";\n",
       "                var nbb_formatted_code = \"number[\\\"label6\\\"].value_counts()\";\n",
       "                var nbb_cells = Jupyter.notebook.get_cells();\n",
       "                for (var i = 0; i < nbb_cells.length; ++i) {\n",
       "                    if (nbb_cells[i].input_prompt_number == nbb_cell_id) {\n",
       "                        if (nbb_cells[i].get_text() == nbb_unformatted_code) {\n",
       "                             nbb_cells[i].set_text(nbb_formatted_code);\n",
       "                        }\n",
       "                        break;\n",
       "                    }\n",
       "                }\n",
       "            }, 500);\n",
       "            "
      ],
      "text/plain": [
       "<IPython.core.display.Javascript object>"
      ]
     },
     "metadata": {},
     "output_type": "display_data"
    }
   ],
   "source": [
    "number[\"label6\"].value_counts()"
   ]
  },
  {
   "cell_type": "code",
   "execution_count": 46,
   "metadata": {},
   "outputs": [
    {
     "data": {
      "text/html": [
       "<div>\n",
       "<style scoped>\n",
       "    .dataframe tbody tr th:only-of-type {\n",
       "        vertical-align: middle;\n",
       "    }\n",
       "\n",
       "    .dataframe tbody tr th {\n",
       "        vertical-align: top;\n",
       "    }\n",
       "\n",
       "    .dataframe thead th {\n",
       "        text-align: right;\n",
       "    }\n",
       "</style>\n",
       "<table border=\"1\" class=\"dataframe\">\n",
       "  <thead>\n",
       "    <tr style=\"text-align: right;\">\n",
       "      <th></th>\n",
       "      <th>open</th>\n",
       "      <th>close</th>\n",
       "      <th>low</th>\n",
       "      <th>high</th>\n",
       "      <th>volume</th>\n",
       "      <th>month</th>\n",
       "      <th>day</th>\n",
       "      <th>perc_co_dif</th>\n",
       "      <th>perc_hl_dif</th>\n",
       "    </tr>\n",
       "    <tr>\n",
       "      <th>label6</th>\n",
       "      <th></th>\n",
       "      <th></th>\n",
       "      <th></th>\n",
       "      <th></th>\n",
       "      <th></th>\n",
       "      <th></th>\n",
       "      <th></th>\n",
       "      <th></th>\n",
       "      <th></th>\n",
       "    </tr>\n",
       "  </thead>\n",
       "  <tbody>\n",
       "    <tr>\n",
       "      <th>0</th>\n",
       "      <td>56.919097</td>\n",
       "      <td>56.922130</td>\n",
       "      <td>56.446680</td>\n",
       "      <td>57.376300</td>\n",
       "      <td>3.926965e+06</td>\n",
       "      <td>9.569544</td>\n",
       "      <td>16.001573</td>\n",
       "      <td>-0.000732</td>\n",
       "      <td>1.673647</td>\n",
       "    </tr>\n",
       "    <tr>\n",
       "      <th>1</th>\n",
       "      <td>56.104746</td>\n",
       "      <td>56.133656</td>\n",
       "      <td>55.639017</td>\n",
       "      <td>56.572948</td>\n",
       "      <td>4.241125e+06</td>\n",
       "      <td>3.482846</td>\n",
       "      <td>15.647377</td>\n",
       "      <td>0.046068</td>\n",
       "      <td>1.694211</td>\n",
       "    </tr>\n",
       "    <tr>\n",
       "      <th>2</th>\n",
       "      <td>202.088773</td>\n",
       "      <td>202.148677</td>\n",
       "      <td>200.080007</td>\n",
       "      <td>204.072562</td>\n",
       "      <td>3.090420e+06</td>\n",
       "      <td>6.753357</td>\n",
       "      <td>15.764272</td>\n",
       "      <td>0.023115</td>\n",
       "      <td>1.924014</td>\n",
       "    </tr>\n",
       "    <tr>\n",
       "      <th>3</th>\n",
       "      <td>45.070458</td>\n",
       "      <td>46.292398</td>\n",
       "      <td>44.726102</td>\n",
       "      <td>46.639393</td>\n",
       "      <td>8.882122e+06</td>\n",
       "      <td>6.628295</td>\n",
       "      <td>15.088066</td>\n",
       "      <td>2.578319</td>\n",
       "      <td>4.119407</td>\n",
       "    </tr>\n",
       "    <tr>\n",
       "      <th>4</th>\n",
       "      <td>44.222696</td>\n",
       "      <td>43.019017</td>\n",
       "      <td>42.630614</td>\n",
       "      <td>44.536082</td>\n",
       "      <td>1.597395e+07</td>\n",
       "      <td>6.458020</td>\n",
       "      <td>15.134340</td>\n",
       "      <td>-2.660256</td>\n",
       "      <td>4.363371</td>\n",
       "    </tr>\n",
       "    <tr>\n",
       "      <th>5</th>\n",
       "      <td>680.319356</td>\n",
       "      <td>680.200566</td>\n",
       "      <td>673.670741</td>\n",
       "      <td>686.495840</td>\n",
       "      <td>9.523962e+06</td>\n",
       "      <td>6.613284</td>\n",
       "      <td>15.736290</td>\n",
       "      <td>-0.025397</td>\n",
       "      <td>1.927301</td>\n",
       "    </tr>\n",
       "  </tbody>\n",
       "</table>\n",
       "</div>"
      ],
      "text/plain": [
       "              open       close         low        high        volume  \\\n",
       "label6                                                                 \n",
       "0        56.919097   56.922130   56.446680   57.376300  3.926965e+06   \n",
       "1        56.104746   56.133656   55.639017   56.572948  4.241125e+06   \n",
       "2       202.088773  202.148677  200.080007  204.072562  3.090420e+06   \n",
       "3        45.070458   46.292398   44.726102   46.639393  8.882122e+06   \n",
       "4        44.222696   43.019017   42.630614   44.536082  1.597395e+07   \n",
       "5       680.319356  680.200566  673.670741  686.495840  9.523962e+06   \n",
       "\n",
       "           month        day  perc_co_dif  perc_hl_dif  \n",
       "label6                                                 \n",
       "0       9.569544  16.001573    -0.000732     1.673647  \n",
       "1       3.482846  15.647377     0.046068     1.694211  \n",
       "2       6.753357  15.764272     0.023115     1.924014  \n",
       "3       6.628295  15.088066     2.578319     4.119407  \n",
       "4       6.458020  15.134340    -2.660256     4.363371  \n",
       "5       6.613284  15.736290    -0.025397     1.927301  "
      ]
     },
     "execution_count": 46,
     "metadata": {},
     "output_type": "execute_result"
    },
    {
     "data": {
      "application/javascript": [
       "\n",
       "            setTimeout(function() {\n",
       "                var nbb_cell_id = 46;\n",
       "                var nbb_unformatted_code = \"number.groupby(\\\"label6\\\").mean()\";\n",
       "                var nbb_formatted_code = \"number.groupby(\\\"label6\\\").mean()\";\n",
       "                var nbb_cells = Jupyter.notebook.get_cells();\n",
       "                for (var i = 0; i < nbb_cells.length; ++i) {\n",
       "                    if (nbb_cells[i].input_prompt_number == nbb_cell_id) {\n",
       "                        if (nbb_cells[i].get_text() == nbb_unformatted_code) {\n",
       "                             nbb_cells[i].set_text(nbb_formatted_code);\n",
       "                        }\n",
       "                        break;\n",
       "                    }\n",
       "                }\n",
       "            }, 500);\n",
       "            "
      ],
      "text/plain": [
       "<IPython.core.display.Javascript object>"
      ]
     },
     "metadata": {},
     "output_type": "display_data"
    }
   ],
   "source": [
    "number.groupby(\"label6\").mean()"
   ]
  },
  {
   "cell_type": "markdown",
   "metadata": {},
   "source": [
    "# This is all good and well, but the stocks are grouped based on day. Theoretically, one ticker could be in multiple labels. These stocks should be grouped based on which label they appear in the most! "
   ]
  },
  {
   "cell_type": "code",
   "execution_count": 47,
   "metadata": {
    "scrolled": true
   },
   "outputs": [
    {
     "data": {
      "text/html": [
       "<div>\n",
       "<style scoped>\n",
       "    .dataframe tbody tr th:only-of-type {\n",
       "        vertical-align: middle;\n",
       "    }\n",
       "\n",
       "    .dataframe tbody tr th {\n",
       "        vertical-align: top;\n",
       "    }\n",
       "\n",
       "    .dataframe thead th {\n",
       "        text-align: right;\n",
       "    }\n",
       "</style>\n",
       "<table border=\"1\" class=\"dataframe\">\n",
       "  <thead>\n",
       "    <tr style=\"text-align: right;\">\n",
       "      <th></th>\n",
       "      <th>open</th>\n",
       "      <th>close</th>\n",
       "      <th>low</th>\n",
       "      <th>high</th>\n",
       "      <th>volume</th>\n",
       "      <th>month</th>\n",
       "      <th>day</th>\n",
       "      <th>perc_co_dif</th>\n",
       "      <th>perc_hl_dif</th>\n",
       "      <th>label6</th>\n",
       "      <th>ticker</th>\n",
       "      <th>date</th>\n",
       "    </tr>\n",
       "  </thead>\n",
       "  <tbody>\n",
       "    <tr>\n",
       "      <th>0</th>\n",
       "      <td>31.389999</td>\n",
       "      <td>31.300001</td>\n",
       "      <td>31.130000</td>\n",
       "      <td>31.630001</td>\n",
       "      <td>3815500.0</td>\n",
       "      <td>1</td>\n",
       "      <td>4</td>\n",
       "      <td>-0.287534</td>\n",
       "      <td>1.597447</td>\n",
       "      <td>1</td>\n",
       "      <td>A</td>\n",
       "      <td>2010-01-04</td>\n",
       "    </tr>\n",
       "    <tr>\n",
       "      <th>1</th>\n",
       "      <td>4.840000</td>\n",
       "      <td>4.770000</td>\n",
       "      <td>4.660000</td>\n",
       "      <td>4.940000</td>\n",
       "      <td>9837300.0</td>\n",
       "      <td>1</td>\n",
       "      <td>4</td>\n",
       "      <td>-1.467505</td>\n",
       "      <td>5.870021</td>\n",
       "      <td>4</td>\n",
       "      <td>AAL</td>\n",
       "      <td>2010-01-04</td>\n",
       "    </tr>\n",
       "    <tr>\n",
       "      <th>2</th>\n",
       "      <td>40.700001</td>\n",
       "      <td>40.380001</td>\n",
       "      <td>40.360001</td>\n",
       "      <td>41.040001</td>\n",
       "      <td>1701700.0</td>\n",
       "      <td>1</td>\n",
       "      <td>4</td>\n",
       "      <td>-0.792472</td>\n",
       "      <td>1.684002</td>\n",
       "      <td>1</td>\n",
       "      <td>AAP</td>\n",
       "      <td>2010-01-04</td>\n",
       "    </tr>\n",
       "    <tr>\n",
       "      <th>3</th>\n",
       "      <td>213.429998</td>\n",
       "      <td>214.009998</td>\n",
       "      <td>212.380001</td>\n",
       "      <td>214.499996</td>\n",
       "      <td>123432400.0</td>\n",
       "      <td>1</td>\n",
       "      <td>4</td>\n",
       "      <td>0.271015</td>\n",
       "      <td>0.990606</td>\n",
       "      <td>2</td>\n",
       "      <td>AAPL</td>\n",
       "      <td>2010-01-04</td>\n",
       "    </tr>\n",
       "    <tr>\n",
       "      <th>4</th>\n",
       "      <td>26.290001</td>\n",
       "      <td>26.629999</td>\n",
       "      <td>26.139999</td>\n",
       "      <td>26.690001</td>\n",
       "      <td>2455900.0</td>\n",
       "      <td>1</td>\n",
       "      <td>4</td>\n",
       "      <td>1.276748</td>\n",
       "      <td>2.065347</td>\n",
       "      <td>1</td>\n",
       "      <td>ABC</td>\n",
       "      <td>2010-01-04</td>\n",
       "    </tr>\n",
       "    <tr>\n",
       "      <th>...</th>\n",
       "      <td>...</td>\n",
       "      <td>...</td>\n",
       "      <td>...</td>\n",
       "      <td>...</td>\n",
       "      <td>...</td>\n",
       "      <td>...</td>\n",
       "      <td>...</td>\n",
       "      <td>...</td>\n",
       "      <td>...</td>\n",
       "      <td>...</td>\n",
       "      <td>...</td>\n",
       "      <td>...</td>\n",
       "    </tr>\n",
       "    <tr>\n",
       "      <th>822849</th>\n",
       "      <td>38.720001</td>\n",
       "      <td>38.669998</td>\n",
       "      <td>38.430000</td>\n",
       "      <td>39.000000</td>\n",
       "      <td>6431600.0</td>\n",
       "      <td>12</td>\n",
       "      <td>30</td>\n",
       "      <td>-0.129307</td>\n",
       "      <td>1.474011</td>\n",
       "      <td>0</td>\n",
       "      <td>YHOO</td>\n",
       "      <td>2016-12-30</td>\n",
       "    </tr>\n",
       "    <tr>\n",
       "      <th>822850</th>\n",
       "      <td>63.930000</td>\n",
       "      <td>63.330002</td>\n",
       "      <td>63.160000</td>\n",
       "      <td>63.939999</td>\n",
       "      <td>1887100.0</td>\n",
       "      <td>12</td>\n",
       "      <td>30</td>\n",
       "      <td>-0.947415</td>\n",
       "      <td>1.231642</td>\n",
       "      <td>0</td>\n",
       "      <td>YUM</td>\n",
       "      <td>2016-12-30</td>\n",
       "    </tr>\n",
       "    <tr>\n",
       "      <th>822851</th>\n",
       "      <td>103.309998</td>\n",
       "      <td>103.199997</td>\n",
       "      <td>102.849998</td>\n",
       "      <td>103.930000</td>\n",
       "      <td>973800.0</td>\n",
       "      <td>12</td>\n",
       "      <td>30</td>\n",
       "      <td>-0.106590</td>\n",
       "      <td>1.046514</td>\n",
       "      <td>0</td>\n",
       "      <td>ZBH</td>\n",
       "      <td>2016-12-30</td>\n",
       "    </tr>\n",
       "    <tr>\n",
       "      <th>822852</th>\n",
       "      <td>43.070000</td>\n",
       "      <td>43.040001</td>\n",
       "      <td>42.689999</td>\n",
       "      <td>43.310001</td>\n",
       "      <td>1938100.0</td>\n",
       "      <td>12</td>\n",
       "      <td>30</td>\n",
       "      <td>-0.069700</td>\n",
       "      <td>1.440525</td>\n",
       "      <td>0</td>\n",
       "      <td>ZION</td>\n",
       "      <td>2016-12-30</td>\n",
       "    </tr>\n",
       "    <tr>\n",
       "      <th>822853</th>\n",
       "      <td>44.730000</td>\n",
       "      <td>45.450001</td>\n",
       "      <td>44.410000</td>\n",
       "      <td>45.590000</td>\n",
       "      <td>1380900.0</td>\n",
       "      <td>12</td>\n",
       "      <td>30</td>\n",
       "      <td>1.584161</td>\n",
       "      <td>2.596260</td>\n",
       "      <td>0</td>\n",
       "      <td>AIV</td>\n",
       "      <td>2016-12-30</td>\n",
       "    </tr>\n",
       "  </tbody>\n",
       "</table>\n",
       "<p>822854 rows × 12 columns</p>\n",
       "</div>"
      ],
      "text/plain": [
       "              open       close         low        high       volume  month  \\\n",
       "0        31.389999   31.300001   31.130000   31.630001    3815500.0      1   \n",
       "1         4.840000    4.770000    4.660000    4.940000    9837300.0      1   \n",
       "2        40.700001   40.380001   40.360001   41.040001    1701700.0      1   \n",
       "3       213.429998  214.009998  212.380001  214.499996  123432400.0      1   \n",
       "4        26.290001   26.629999   26.139999   26.690001    2455900.0      1   \n",
       "...            ...         ...         ...         ...          ...    ...   \n",
       "822849   38.720001   38.669998   38.430000   39.000000    6431600.0     12   \n",
       "822850   63.930000   63.330002   63.160000   63.939999    1887100.0     12   \n",
       "822851  103.309998  103.199997  102.849998  103.930000     973800.0     12   \n",
       "822852   43.070000   43.040001   42.689999   43.310001    1938100.0     12   \n",
       "822853   44.730000   45.450001   44.410000   45.590000    1380900.0     12   \n",
       "\n",
       "        day  perc_co_dif  perc_hl_dif  label6 ticker       date  \n",
       "0         4    -0.287534     1.597447       1      A 2010-01-04  \n",
       "1         4    -1.467505     5.870021       4    AAL 2010-01-04  \n",
       "2         4    -0.792472     1.684002       1    AAP 2010-01-04  \n",
       "3         4     0.271015     0.990606       2   AAPL 2010-01-04  \n",
       "4         4     1.276748     2.065347       1    ABC 2010-01-04  \n",
       "...     ...          ...          ...     ...    ...        ...  \n",
       "822849   30    -0.129307     1.474011       0   YHOO 2016-12-30  \n",
       "822850   30    -0.947415     1.231642       0    YUM 2016-12-30  \n",
       "822851   30    -0.106590     1.046514       0    ZBH 2016-12-30  \n",
       "822852   30    -0.069700     1.440525       0   ZION 2016-12-30  \n",
       "822853   30     1.584161     2.596260       0    AIV 2016-12-30  \n",
       "\n",
       "[822854 rows x 12 columns]"
      ]
     },
     "execution_count": 47,
     "metadata": {},
     "output_type": "execute_result"
    },
    {
     "data": {
      "application/javascript": [
       "\n",
       "            setTimeout(function() {\n",
       "                var nbb_cell_id = 47;\n",
       "                var nbb_unformatted_code = \"number[\\\"ticker\\\"] = df_full[\\\"symbol\\\"]\\nnumber[\\\"date\\\"] = df_full[\\\"date\\\"]\\nnumber\";\n",
       "                var nbb_formatted_code = \"number[\\\"ticker\\\"] = df_full[\\\"symbol\\\"]\\nnumber[\\\"date\\\"] = df_full[\\\"date\\\"]\\nnumber\";\n",
       "                var nbb_cells = Jupyter.notebook.get_cells();\n",
       "                for (var i = 0; i < nbb_cells.length; ++i) {\n",
       "                    if (nbb_cells[i].input_prompt_number == nbb_cell_id) {\n",
       "                        if (nbb_cells[i].get_text() == nbb_unformatted_code) {\n",
       "                             nbb_cells[i].set_text(nbb_formatted_code);\n",
       "                        }\n",
       "                        break;\n",
       "                    }\n",
       "                }\n",
       "            }, 500);\n",
       "            "
      ],
      "text/plain": [
       "<IPython.core.display.Javascript object>"
      ]
     },
     "metadata": {},
     "output_type": "display_data"
    }
   ],
   "source": [
    "number[\"ticker\"] = df_full[\"symbol\"]\n",
    "number[\"date\"] = df_full[\"date\"]\n",
    "number"
   ]
  },
  {
   "cell_type": "code",
   "execution_count": 48,
   "metadata": {},
   "outputs": [
    {
     "data": {
      "application/javascript": [
       "\n",
       "            setTimeout(function() {\n",
       "                var nbb_cell_id = 48;\n",
       "                var nbb_unformatted_code = \"test = number.copy()\";\n",
       "                var nbb_formatted_code = \"test = number.copy()\";\n",
       "                var nbb_cells = Jupyter.notebook.get_cells();\n",
       "                for (var i = 0; i < nbb_cells.length; ++i) {\n",
       "                    if (nbb_cells[i].input_prompt_number == nbb_cell_id) {\n",
       "                        if (nbb_cells[i].get_text() == nbb_unformatted_code) {\n",
       "                             nbb_cells[i].set_text(nbb_formatted_code);\n",
       "                        }\n",
       "                        break;\n",
       "                    }\n",
       "                }\n",
       "            }, 500);\n",
       "            "
      ],
      "text/plain": [
       "<IPython.core.display.Javascript object>"
      ]
     },
     "metadata": {},
     "output_type": "display_data"
    }
   ],
   "source": [
    "test = number.copy()"
   ]
  },
  {
   "cell_type": "code",
   "execution_count": 49,
   "metadata": {},
   "outputs": [
    {
     "data": {
      "application/javascript": [
       "\n",
       "            setTimeout(function() {\n",
       "                var nbb_cell_id = 49;\n",
       "                var nbb_unformatted_code = \"# get all my tickers in one place\\ntickers = test[\\\"ticker\\\"].unique().tolist()\\n\\nfor ticker in tickers:\\n    looking = test[test[\\\"ticker\\\"] == ticker]\\n    counts = looking[\\\"label6\\\"].value_counts().nlargest(n=1)\\n    x = int(counts.index.tolist()[0])\\n    test.loc[test[\\\"ticker\\\"] == ticker, [\\\"label6\\\"]] = x\";\n",
       "                var nbb_formatted_code = \"# get all my tickers in one place\\ntickers = test[\\\"ticker\\\"].unique().tolist()\\n\\nfor ticker in tickers:\\n    looking = test[test[\\\"ticker\\\"] == ticker]\\n    counts = looking[\\\"label6\\\"].value_counts().nlargest(n=1)\\n    x = int(counts.index.tolist()[0])\\n    test.loc[test[\\\"ticker\\\"] == ticker, [\\\"label6\\\"]] = x\";\n",
       "                var nbb_cells = Jupyter.notebook.get_cells();\n",
       "                for (var i = 0; i < nbb_cells.length; ++i) {\n",
       "                    if (nbb_cells[i].input_prompt_number == nbb_cell_id) {\n",
       "                        if (nbb_cells[i].get_text() == nbb_unformatted_code) {\n",
       "                             nbb_cells[i].set_text(nbb_formatted_code);\n",
       "                        }\n",
       "                        break;\n",
       "                    }\n",
       "                }\n",
       "            }, 500);\n",
       "            "
      ],
      "text/plain": [
       "<IPython.core.display.Javascript object>"
      ]
     },
     "metadata": {},
     "output_type": "display_data"
    }
   ],
   "source": [
    "# get all my tickers in one place\n",
    "tickers = test[\"ticker\"].unique().tolist()\n",
    "\n",
    "for ticker in tickers:\n",
    "    looking = test[test[\"ticker\"] == ticker]\n",
    "    counts = looking[\"label6\"].value_counts().nlargest(n=1)\n",
    "    x = int(counts.index.tolist()[0])\n",
    "    test.loc[test[\"ticker\"] == ticker, [\"label6\"]] = x"
   ]
  },
  {
   "cell_type": "code",
   "execution_count": 50,
   "metadata": {
    "scrolled": true
   },
   "outputs": [
    {
     "data": {
      "text/plain": [
       "array([1])"
      ]
     },
     "execution_count": 50,
     "metadata": {},
     "output_type": "execute_result"
    },
    {
     "data": {
      "application/javascript": [
       "\n",
       "            setTimeout(function() {\n",
       "                var nbb_cell_id = 50;\n",
       "                var nbb_unformatted_code = \"test[test[\\\"ticker\\\"] == \\\"A\\\"][\\\"label6\\\"].unique()\";\n",
       "                var nbb_formatted_code = \"test[test[\\\"ticker\\\"] == \\\"A\\\"][\\\"label6\\\"].unique()\";\n",
       "                var nbb_cells = Jupyter.notebook.get_cells();\n",
       "                for (var i = 0; i < nbb_cells.length; ++i) {\n",
       "                    if (nbb_cells[i].input_prompt_number == nbb_cell_id) {\n",
       "                        if (nbb_cells[i].get_text() == nbb_unformatted_code) {\n",
       "                             nbb_cells[i].set_text(nbb_formatted_code);\n",
       "                        }\n",
       "                        break;\n",
       "                    }\n",
       "                }\n",
       "            }, 500);\n",
       "            "
      ],
      "text/plain": [
       "<IPython.core.display.Javascript object>"
      ]
     },
     "metadata": {},
     "output_type": "display_data"
    }
   ],
   "source": [
    "test[test[\"ticker\"] == \"A\"][\"label6\"].unique()"
   ]
  },
  {
   "cell_type": "code",
   "execution_count": 51,
   "metadata": {},
   "outputs": [
    {
     "data": {
      "text/html": [
       "<div>\n",
       "<style scoped>\n",
       "    .dataframe tbody tr th:only-of-type {\n",
       "        vertical-align: middle;\n",
       "    }\n",
       "\n",
       "    .dataframe tbody tr th {\n",
       "        vertical-align: top;\n",
       "    }\n",
       "\n",
       "    .dataframe thead th {\n",
       "        text-align: right;\n",
       "    }\n",
       "</style>\n",
       "<table border=\"1\" class=\"dataframe\">\n",
       "  <thead>\n",
       "    <tr style=\"text-align: right;\">\n",
       "      <th></th>\n",
       "      <th>open</th>\n",
       "      <th>close</th>\n",
       "      <th>low</th>\n",
       "      <th>high</th>\n",
       "      <th>volume</th>\n",
       "      <th>month</th>\n",
       "      <th>day</th>\n",
       "      <th>perc_co_dif</th>\n",
       "      <th>perc_hl_dif</th>\n",
       "    </tr>\n",
       "    <tr>\n",
       "      <th>label6</th>\n",
       "      <th></th>\n",
       "      <th></th>\n",
       "      <th></th>\n",
       "      <th></th>\n",
       "      <th></th>\n",
       "      <th></th>\n",
       "      <th></th>\n",
       "      <th></th>\n",
       "      <th></th>\n",
       "    </tr>\n",
       "  </thead>\n",
       "  <tbody>\n",
       "    <tr>\n",
       "      <th>0</th>\n",
       "      <td>50.850639</td>\n",
       "      <td>50.868141</td>\n",
       "      <td>50.350248</td>\n",
       "      <td>51.346107</td>\n",
       "      <td>5.433300e+06</td>\n",
       "      <td>6.549943</td>\n",
       "      <td>15.704313</td>\n",
       "      <td>0.022036</td>\n",
       "      <td>2.084471</td>\n",
       "    </tr>\n",
       "    <tr>\n",
       "      <th>1</th>\n",
       "      <td>62.050026</td>\n",
       "      <td>62.072760</td>\n",
       "      <td>61.444344</td>\n",
       "      <td>62.649350</td>\n",
       "      <td>4.042037e+06</td>\n",
       "      <td>6.549943</td>\n",
       "      <td>15.704313</td>\n",
       "      <td>0.024877</td>\n",
       "      <td>2.063078</td>\n",
       "    </tr>\n",
       "    <tr>\n",
       "      <th>2</th>\n",
       "      <td>169.798120</td>\n",
       "      <td>169.850875</td>\n",
       "      <td>167.973377</td>\n",
       "      <td>171.602963</td>\n",
       "      <td>2.663074e+06</td>\n",
       "      <td>6.549943</td>\n",
       "      <td>15.704313</td>\n",
       "      <td>0.033834</td>\n",
       "      <td>2.232219</td>\n",
       "    </tr>\n",
       "    <tr>\n",
       "      <th>3</th>\n",
       "      <td>36.620732</td>\n",
       "      <td>36.624126</td>\n",
       "      <td>35.996016</td>\n",
       "      <td>37.264552</td>\n",
       "      <td>6.014288e+06</td>\n",
       "      <td>6.549943</td>\n",
       "      <td>15.704313</td>\n",
       "      <td>-0.015513</td>\n",
       "      <td>3.677522</td>\n",
       "    </tr>\n",
       "    <tr>\n",
       "      <th>4</th>\n",
       "      <td>27.065255</td>\n",
       "      <td>27.032350</td>\n",
       "      <td>26.594340</td>\n",
       "      <td>27.494690</td>\n",
       "      <td>3.984891e+07</td>\n",
       "      <td>6.549943</td>\n",
       "      <td>15.704313</td>\n",
       "      <td>-0.156137</td>\n",
       "      <td>3.496931</td>\n",
       "    </tr>\n",
       "    <tr>\n",
       "      <th>5</th>\n",
       "      <td>596.438817</td>\n",
       "      <td>596.334879</td>\n",
       "      <td>590.467370</td>\n",
       "      <td>601.980359</td>\n",
       "      <td>2.073368e+07</td>\n",
       "      <td>6.549943</td>\n",
       "      <td>15.704313</td>\n",
       "      <td>-0.022956</td>\n",
       "      <td>2.006801</td>\n",
       "    </tr>\n",
       "  </tbody>\n",
       "</table>\n",
       "</div>"
      ],
      "text/plain": [
       "              open       close         low        high        volume  \\\n",
       "label6                                                                 \n",
       "0        50.850639   50.868141   50.350248   51.346107  5.433300e+06   \n",
       "1        62.050026   62.072760   61.444344   62.649350  4.042037e+06   \n",
       "2       169.798120  169.850875  167.973377  171.602963  2.663074e+06   \n",
       "3        36.620732   36.624126   35.996016   37.264552  6.014288e+06   \n",
       "4        27.065255   27.032350   26.594340   27.494690  3.984891e+07   \n",
       "5       596.438817  596.334879  590.467370  601.980359  2.073368e+07   \n",
       "\n",
       "           month        day  perc_co_dif  perc_hl_dif  \n",
       "label6                                                 \n",
       "0       6.549943  15.704313     0.022036     2.084471  \n",
       "1       6.549943  15.704313     0.024877     2.063078  \n",
       "2       6.549943  15.704313     0.033834     2.232219  \n",
       "3       6.549943  15.704313    -0.015513     3.677522  \n",
       "4       6.549943  15.704313    -0.156137     3.496931  \n",
       "5       6.549943  15.704313    -0.022956     2.006801  "
      ]
     },
     "execution_count": 51,
     "metadata": {},
     "output_type": "execute_result"
    },
    {
     "data": {
      "application/javascript": [
       "\n",
       "            setTimeout(function() {\n",
       "                var nbb_cell_id = 51;\n",
       "                var nbb_unformatted_code = \"test.groupby(\\\"label6\\\").mean()\";\n",
       "                var nbb_formatted_code = \"test.groupby(\\\"label6\\\").mean()\";\n",
       "                var nbb_cells = Jupyter.notebook.get_cells();\n",
       "                for (var i = 0; i < nbb_cells.length; ++i) {\n",
       "                    if (nbb_cells[i].input_prompt_number == nbb_cell_id) {\n",
       "                        if (nbb_cells[i].get_text() == nbb_unformatted_code) {\n",
       "                             nbb_cells[i].set_text(nbb_formatted_code);\n",
       "                        }\n",
       "                        break;\n",
       "                    }\n",
       "                }\n",
       "            }, 500);\n",
       "            "
      ],
      "text/plain": [
       "<IPython.core.display.Javascript object>"
      ]
     },
     "metadata": {},
     "output_type": "display_data"
    }
   ],
   "source": [
    "test.groupby(\"label6\").mean()"
   ]
  },
  {
   "cell_type": "markdown",
   "metadata": {},
   "source": [
    "# Analysis of the clusters:"
   ]
  },
  {
   "cell_type": "markdown",
   "metadata": {},
   "source": [
    "# Cluster Names:\n",
    "- Cluster 0 = Middle cluster\n",
    "- Cluster 1 = Stable and cheap\n",
    "- Cluster 2 = Expensive Middle\n",
    "- Cluster 3 = Knowlingly Risky\n",
    "- Cluster 4 = Loose Cannon\n",
    "- Cluster 5 = Benjamin Button"
   ]
  },
  {
   "cell_type": "markdown",
   "metadata": {},
   "source": [
    "# General: Clusters 2 , and 5 seem to be similar in terms of Difference metrics while acting as the two with most expensive stock prices. Ideally, it seems cluster 3 would be the one to day trade among all of these and other people recognize that given it's the most volume traded cluster.\n",
    "\n",
    "\n",
    "- open: Benjamin Button is very expensive but the loose cannon is cheap (that's why it's loose).\n",
    "- close, low, and high: same as abive\n",
    "- volume: This is interesting, it seems most trading is done on biggest high low percentage split stocks(Knowingly risky) by far. The lowest difference also has the least volume\n",
    "- month and day: The mean is 15. It means nothing.\n",
    "- perc_hl_dif: This is interesting. The biggest difference on group 3 which could explain the reason for trading volume. Given the open amount of the stock, it makes sense there's a bigger dollar value would have a bigger high/low split. The second highest seems cheaper. There could be something with these stocks to explain their seemingly similar volitility but lack of trading volume.\n",
    "- perc_co_dif: These offer very little benefit to the overall clustering\n"
   ]
  },
  {
   "cell_type": "code",
   "execution_count": 59,
   "metadata": {},
   "outputs": [
    {
     "data": {
      "text/plain": [
       "Index(['open', 'close', 'low', 'high', 'volume', 'month', 'day', 'perc_co_dif',\n",
       "       'perc_hl_dif'],\n",
       "      dtype='object')"
      ]
     },
     "execution_count": 59,
     "metadata": {},
     "output_type": "execute_result"
    },
    {
     "data": {
      "application/javascript": [
       "\n",
       "            setTimeout(function() {\n",
       "                var nbb_cell_id = 59;\n",
       "                var nbb_unformatted_code = \"#Want to remind myself of column names so I format the queries correctly\\ncentroids_df.columns\";\n",
       "                var nbb_formatted_code = \"# Want to remind myself of column names so I format the queries correctly\\ncentroids_df.columns\";\n",
       "                var nbb_cells = Jupyter.notebook.get_cells();\n",
       "                for (var i = 0; i < nbb_cells.length; ++i) {\n",
       "                    if (nbb_cells[i].input_prompt_number == nbb_cell_id) {\n",
       "                        if (nbb_cells[i].get_text() == nbb_unformatted_code) {\n",
       "                             nbb_cells[i].set_text(nbb_formatted_code);\n",
       "                        }\n",
       "                        break;\n",
       "                    }\n",
       "                }\n",
       "            }, 500);\n",
       "            "
      ],
      "text/plain": [
       "<IPython.core.display.Javascript object>"
      ]
     },
     "metadata": {},
     "output_type": "display_data"
    }
   ],
   "source": [
    "# Want to remind myself of column names so I format the queries correctly\n",
    "centroids_df.columns"
   ]
  },
  {
   "cell_type": "code",
   "execution_count": 54,
   "metadata": {},
   "outputs": [
    {
     "data": {
      "application/javascript": [
       "\n",
       "            setTimeout(function() {\n",
       "                var nbb_cell_id = 54;\n",
       "                var nbb_unformatted_code = \"# format is 'open', 'close', 'low', 'high', 'volume','month', 'day','perc_co_dif', 'perc_hl_dif'\\nchegg = [[62.34, 62.93, 61.67, 63.34, 2725077, 5, 20, -0.93, 2.65]]\\napple = [[316.68, 319.16, 316.2, 319.52, 50980000, 5, 20, .77, 1.04]]\\ncars = [[1116.37, 1114.49, 1105.02, 1142.99, 289208, 5, 20, -0.16, 3.41]]\\nsearch = [[1389.16, 1409.18, 1365, 1420, 1864967, 5, 20, 1.42, 3.90]]\\n\\nthinkful = k_means.predict(scaler.transform(chegg))\\npomme = k_means.predict(scaler.transform(apple))\\nauto_zone = k_means.predict(scaler.transform(cars))\\ngoogle = k_means.predict(scaler.transform(search))\";\n",
       "                var nbb_formatted_code = \"# format is 'open', 'close', 'low', 'high', 'volume','month', 'day','perc_co_dif', 'perc_hl_dif'\\nchegg = [[62.34, 62.93, 61.67, 63.34, 2725077, 5, 20, -0.93, 2.65]]\\napple = [[316.68, 319.16, 316.2, 319.52, 50980000, 5, 20, 0.77, 1.04]]\\ncars = [[1116.37, 1114.49, 1105.02, 1142.99, 289208, 5, 20, -0.16, 3.41]]\\nsearch = [[1389.16, 1409.18, 1365, 1420, 1864967, 5, 20, 1.42, 3.90]]\\n\\nthinkful = k_means.predict(scaler.transform(chegg))\\npomme = k_means.predict(scaler.transform(apple))\\nauto_zone = k_means.predict(scaler.transform(cars))\\ngoogle = k_means.predict(scaler.transform(search))\";\n",
       "                var nbb_cells = Jupyter.notebook.get_cells();\n",
       "                for (var i = 0; i < nbb_cells.length; ++i) {\n",
       "                    if (nbb_cells[i].input_prompt_number == nbb_cell_id) {\n",
       "                        if (nbb_cells[i].get_text() == nbb_unformatted_code) {\n",
       "                             nbb_cells[i].set_text(nbb_formatted_code);\n",
       "                        }\n",
       "                        break;\n",
       "                    }\n",
       "                }\n",
       "            }, 500);\n",
       "            "
      ],
      "text/plain": [
       "<IPython.core.display.Javascript object>"
      ]
     },
     "metadata": {},
     "output_type": "display_data"
    }
   ],
   "source": [
    "# format is 'open', 'close', 'low', 'high', 'volume','month', 'day','perc_co_dif', 'perc_hl_dif'\n",
    "chegg = [[62.34, 62.93, 61.67, 63.34, 2725077, 5, 20, -0.93, 2.65]]\n",
    "apple = [[316.68, 319.16, 316.2, 319.52, 50980000, 5, 20, .77, 1.04]]\n",
    "cars = [[1116.37, 1114.49, 1105.02, 1142.99, 289208, 5, 20, -0.16, 3.41]]\n",
    "search = [[1389.16, 1409.18, 1365, 1420, 1864967, 5, 20, 1.42, 3.90]]\n",
    "\n",
    "thinkful = k_means.predict(scaler.transform(chegg))\n",
    "pomme = k_means.predict(scaler.transform(apple))\n",
    "auto_zone = k_means.predict(scaler.transform(cars))\n",
    "google = k_means.predict(scaler.transform(search))\n"
   ]
  },
  {
   "cell_type": "code",
   "execution_count": 55,
   "metadata": {},
   "outputs": [
    {
     "name": "stdout",
     "output_type": "stream",
     "text": [
      "[1]\n"
     ]
    },
    {
     "data": {
      "application/javascript": [
       "\n",
       "            setTimeout(function() {\n",
       "                var nbb_cell_id = 55;\n",
       "                var nbb_unformatted_code = \"print(thinkful)\";\n",
       "                var nbb_formatted_code = \"print(thinkful)\";\n",
       "                var nbb_cells = Jupyter.notebook.get_cells();\n",
       "                for (var i = 0; i < nbb_cells.length; ++i) {\n",
       "                    if (nbb_cells[i].input_prompt_number == nbb_cell_id) {\n",
       "                        if (nbb_cells[i].get_text() == nbb_unformatted_code) {\n",
       "                             nbb_cells[i].set_text(nbb_formatted_code);\n",
       "                        }\n",
       "                        break;\n",
       "                    }\n",
       "                }\n",
       "            }, 500);\n",
       "            "
      ],
      "text/plain": [
       "<IPython.core.display.Javascript object>"
      ]
     },
     "metadata": {},
     "output_type": "display_data"
    }
   ],
   "source": [
    "print(thinkful)"
   ]
  },
  {
   "cell_type": "code",
   "execution_count": 56,
   "metadata": {},
   "outputs": [
    {
     "name": "stdout",
     "output_type": "stream",
     "text": [
      "[2]\n"
     ]
    },
    {
     "data": {
      "application/javascript": [
       "\n",
       "            setTimeout(function() {\n",
       "                var nbb_cell_id = 56;\n",
       "                var nbb_unformatted_code = \"print(pomme)\";\n",
       "                var nbb_formatted_code = \"print(pomme)\";\n",
       "                var nbb_cells = Jupyter.notebook.get_cells();\n",
       "                for (var i = 0; i < nbb_cells.length; ++i) {\n",
       "                    if (nbb_cells[i].input_prompt_number == nbb_cell_id) {\n",
       "                        if (nbb_cells[i].get_text() == nbb_unformatted_code) {\n",
       "                             nbb_cells[i].set_text(nbb_formatted_code);\n",
       "                        }\n",
       "                        break;\n",
       "                    }\n",
       "                }\n",
       "            }, 500);\n",
       "            "
      ],
      "text/plain": [
       "<IPython.core.display.Javascript object>"
      ]
     },
     "metadata": {},
     "output_type": "display_data"
    }
   ],
   "source": [
    "print(pomme)"
   ]
  },
  {
   "cell_type": "code",
   "execution_count": 57,
   "metadata": {},
   "outputs": [
    {
     "name": "stdout",
     "output_type": "stream",
     "text": [
      "[5]\n"
     ]
    },
    {
     "data": {
      "application/javascript": [
       "\n",
       "            setTimeout(function() {\n",
       "                var nbb_cell_id = 57;\n",
       "                var nbb_unformatted_code = \"print(auto_zone)\";\n",
       "                var nbb_formatted_code = \"print(auto_zone)\";\n",
       "                var nbb_cells = Jupyter.notebook.get_cells();\n",
       "                for (var i = 0; i < nbb_cells.length; ++i) {\n",
       "                    if (nbb_cells[i].input_prompt_number == nbb_cell_id) {\n",
       "                        if (nbb_cells[i].get_text() == nbb_unformatted_code) {\n",
       "                             nbb_cells[i].set_text(nbb_formatted_code);\n",
       "                        }\n",
       "                        break;\n",
       "                    }\n",
       "                }\n",
       "            }, 500);\n",
       "            "
      ],
      "text/plain": [
       "<IPython.core.display.Javascript object>"
      ]
     },
     "metadata": {},
     "output_type": "display_data"
    }
   ],
   "source": [
    "print(auto_zone)"
   ]
  },
  {
   "cell_type": "code",
   "execution_count": 58,
   "metadata": {},
   "outputs": [
    {
     "name": "stdout",
     "output_type": "stream",
     "text": [
      "[5]\n"
     ]
    },
    {
     "data": {
      "application/javascript": [
       "\n",
       "            setTimeout(function() {\n",
       "                var nbb_cell_id = 58;\n",
       "                var nbb_unformatted_code = \"print(google)\";\n",
       "                var nbb_formatted_code = \"print(google)\";\n",
       "                var nbb_cells = Jupyter.notebook.get_cells();\n",
       "                for (var i = 0; i < nbb_cells.length; ++i) {\n",
       "                    if (nbb_cells[i].input_prompt_number == nbb_cell_id) {\n",
       "                        if (nbb_cells[i].get_text() == nbb_unformatted_code) {\n",
       "                             nbb_cells[i].set_text(nbb_formatted_code);\n",
       "                        }\n",
       "                        break;\n",
       "                    }\n",
       "                }\n",
       "            }, 500);\n",
       "            "
      ],
      "text/plain": [
       "<IPython.core.display.Javascript object>"
      ]
     },
     "metadata": {},
     "output_type": "display_data"
    }
   ],
   "source": [
    "print(google)"
   ]
  }
 ],
 "metadata": {
  "kernelspec": {
   "display_name": "Python 3",
   "language": "python",
   "name": "python3"
  },
  "language_info": {
   "codemirror_mode": {
    "name": "ipython",
    "version": 3
   },
   "file_extension": ".py",
   "mimetype": "text/x-python",
   "name": "python",
   "nbconvert_exporter": "python",
   "pygments_lexer": "ipython3",
   "version": "3.7.6"
  }
 },
 "nbformat": 4,
 "nbformat_minor": 4
}
